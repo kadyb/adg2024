{
 "cells": [
  {
   "cell_type": "markdown",
   "id": "63884223",
   "metadata": {},
   "source": [
    "<font size=\"5\">**Algorytmy danych geoprzestrzennych**</font><br>\n",
    "<font size=\"4\">Wprowadzenie do PyQGIS</font>\n",
    "\n",
    "<font size=\"4\">Krzysztof Dyba</font>"
   ]
  },
  {
   "cell_type": "markdown",
   "id": "57d26a90",
   "metadata": {},
   "source": [
    "PyQGIS to biblioteka języka Python udostępniająca interfejs programistyczny do aplikacji QGIS, dzięki czemu możliwa jest interakcja pomiędzy kodem napisanym w Pythonie, a środowiskiem i elementami QGIS (np. projekt, warstwy, funkcje, itd.). Biblioteka odgrywa kluczową rolę w automatyzacji zadań oraz tworzeniu niestandardowych narzędzi i wtyczek do rozszerzenia funkcjonalności QGIS. PyQGIS jest częścią projektu QGIS, który jest darmowy i otwarty.\n",
    "\n",
    "Przykładowe zastosowania:\n",
    "- Automatyzacja (przetwarzanie wsadowe, skrypty do czyszczenia i walidacji danych, generowanie map),\n",
    "- Tworzenie nowych narzędzi (wtyczki, specjalistyczne algorytmy geoprzetwarzania, niestandardowe interfejsy),\n",
    "- Zaawansowane analizy przestrzenne (wykorzystanie zewnętrznych bibliotek, np. `numpy`, `scikit-learn`)."
   ]
  },
  {
   "cell_type": "markdown",
   "id": "526a9702",
   "metadata": {},
   "source": [
    "# Instalacja\n",
    "\n",
    "Instalacja jest bardzo prosta -- należy pobrać program QGIS z oficjalnej strony https://qgis.org/download/ i zainstalować według wyświetlanych instrukcji. Środowisko Python i podstawowe biblioteki są automatycznie instalowane wraz z QGIS."
   ]
  },
  {
   "cell_type": "markdown",
   "id": "e6874e7c",
   "metadata": {},
   "source": [
    "# Pierwsze kroki\n",
    "\n",
    "Zasadniczo bibliotekę PyQGIS możemy wykorzystać na dwa sposoby:\n",
    "\n",
    "1. Zintegrowana konsola Pythona w QGIS.\n",
    "\n",
    "QGIS ma wbudowaną konsolę Pythona, w której można wykonywać skrypty interaktywnie. Aby ją włączyć kliknij `Wtyczki` > `Konsola Pythona` w pasku narzędzi. Można również wykorzystać skrót klawiszowy: `CTRL` + `ALT` + `P`. Oprócz konsoli, wbudowany jest bardzo prosty edytor kodu.\n",
    "\n",
    "2. Samodzielne skrypty.\n",
    "\n",
    "PyQGIS można również wykorzystać poza aplikacją QGIS w samodzielnych skryptach Pythona.\n",
    "\n",
    "Sprawdź czy wszystko działa prawidłowo wykonując następujące polecenie:"
   ]
  },
  {
   "cell_type": "markdown",
   "id": "929c9f63",
   "metadata": {},
   "source": [
    "```python\n",
    "from qgis.core import *\n",
    "```"
   ]
  },
  {
   "cell_type": "markdown",
   "id": "8c94704a",
   "metadata": {},
   "source": [
    "## Dane wektorowe\n",
    "\n",
    "### Wczytywanie\n",
    "\n",
    "W folderze `dane` znajduje się plik *powiaty.gpkg*, który zawiera granice powiatów w wielkopolsce z [Państwowego Rejestru Granic](https://www.geoportal.gov.pl/pl/dane/panstwowy-rejestr-granic-prg/). Żeby go wczytać należy wykorzystać klasę [QgsVectorLayer](https://qgis.org/pyqgis/master/core/QgsVectorLayer.html) i zdefiniować trzy argumenty:\n",
    "\n",
    "1. ścieżkę do pliku,\n",
    "2. nazwę warstwy pod jaką zostanie wyświetlony,\n",
    "3. backend do wczytania danych (*data provider*), np. [ogr](https://gdal.org/en/stable/drivers/vector/index.html), [spatialite](https://www.gaia-gis.it/fossil/libspatialite/index), [postgres](https://www.postgresql.org/).\n",
    "\n",
    "Ścieżkę do pliku można zdefiniować na dwa sposoby. Pierwszy to podanie **ścieżki bezwzględnej**, tj. wskazanie dokładnej lokalizacji, w której znajduje się plik. Na przykład:\n",
    "\n",
    "```\n",
    "sciezka = \"C:\\Users\\Krzysztof\\Desktop\\dane.csv\"\n",
    "# lub sciezka = \"C:\\\\Users\\\\Krzysztof\\\\Desktop\\\\dane.csv\"\n",
    "```\n",
    "\n",
    "Nie jest to jednak rekomendowana metoda, ponieważ zakłada, że struktura katalogów pomiędzy różnymi komputerami i systemami jest identyczna. Drugi sposób polega na podaniu **ścieżki względnej**. W tym przypadku podajemy lokalizację pliku względem bieżącego katalogu roboczego lub projektu. Aby dowiedzieć się, gdzie znajduje się katalog roboczy, możemy użyć metody `getcwd()` z biblioteki `os`, a do jego zmiany metody `chdir()`. Uwaga: domyślna ścieżka katalogu roboczego w konsoli QGIS, a systemowej są różne!"
   ]
  },
  {
   "cell_type": "code",
   "execution_count": 1,
   "id": "801e3541",
   "metadata": {},
   "outputs": [
    {
     "name": "stdout",
     "output_type": "stream",
     "text": [
      "C:\\Users\\Krzysztof\\Desktop\n"
     ]
    }
   ],
   "source": [
    "import os\n",
    "print(os.getcwd())"
   ]
  },
  {
   "cell_type": "markdown",
   "id": "d2110cc0",
   "metadata": {},
   "source": [
    "Zauważ również, że w zależności od systemu jest wykorzystywany różny separator katalogów w hierarchii. Aby prawidłowo wskazać ścieżkę do pliku należy wykorzystać metodę `os.path.join()`."
   ]
  },
  {
   "cell_type": "code",
   "execution_count": 2,
   "id": "13277ae9",
   "metadata": {},
   "outputs": [
    {
     "name": "stdout",
     "output_type": "stream",
     "text": [
      "projekt\\dane\\pomiary.csv\n"
     ]
    }
   ],
   "source": [
    "print(os.path.join(\"projekt\", \"dane\", \"pomiary.csv\"))"
   ]
  },
  {
   "cell_type": "markdown",
   "id": "084029f1",
   "metadata": {},
   "source": [
    "Spróbujmy teraz wczytać nasz plik."
   ]
  },
  {
   "cell_type": "code",
   "execution_count": 3,
   "id": "020e1830",
   "metadata": {},
   "outputs": [
    {
     "name": "stdout",
     "output_type": "stream",
     "text": [
      "True\n"
     ]
    }
   ],
   "source": [
    "from qgis.core import QgsVectorLayer\n",
    "\n",
    "# określenie ścieżki do pliku\n",
    "sciezka_do_pliku = os.path.join(\"algorytmy-geoprzestrzenne\", \"dane\", \"powiaty.gpkg\")\n",
    "\n",
    "# wczytanie warstwy wektorowej\n",
    "wektor = QgsVectorLayer(sciezka_do_pliku, \"powiaty\", \"ogr\")\n",
    "\n",
    "# sprawdzenie czy warstwa została załadowana prawidłowo\n",
    "print(wektor.isValid())"
   ]
  },
  {
   "cell_type": "markdown",
   "id": "e0e8e0e6",
   "metadata": {},
   "source": [
    "Warstwa została wczytana prawidłowo. Następnie możemy wyświetlić ją w QGIS (pod warunkiem, że kod wykonujemy w QGIS)."
   ]
  },
  {
   "cell_type": "markdown",
   "id": "8d8b4654",
   "metadata": {},
   "source": [
    "```python\n",
    "from qgis.core import QgsProject\n",
    "QgsProject.instance().addMapLayer(wektor)\n",
    "```"
   ]
  },
  {
   "cell_type": "markdown",
   "id": "19ef32cb",
   "metadata": {},
   "source": [
    "### Wyświetlanie metadanych\n",
    "\n",
    "W kolejnym kroku możemy wyświetlić podstawowe informacje o warstwie, tj.:\n",
    "- rodzaj geometrii,\n",
    "- zakres przestrzenny,\n",
    "- liczba obiektów oraz liczba atrybutów,\n",
    "- układ współrzędnych."
   ]
  },
  {
   "cell_type": "code",
   "execution_count": 4,
   "id": "40fdb769",
   "metadata": {},
   "outputs": [
    {
     "name": "stdout",
     "output_type": "stream",
     "text": [
      "Rodzaj geometrii: Polygon\n",
      "Zakres przestrzenny: 281949.3437500000000000,360241.7500000000000000 : 507167.3125000000000000,645513.6250000000000000\n",
      "Liczba obiektów: 35\n",
      "Liczba atrybutów: 6\n",
      "CRS: EPSG:2180\n"
     ]
    }
   ],
   "source": [
    "# rodzaj geometrii\n",
    "rodzaj_geometrii = wektor.geometryType()\n",
    "rodzaj_geometrii = rodzaj_geometrii.name # zwraca nazwę\n",
    "print(\"Rodzaj geometrii:\", rodzaj_geometrii)\n",
    "\n",
    "# zakres przestrzenny\n",
    "zakres = wektor.extent() # obiekt QgsRectangle\n",
    "zakres = zakres.toString() # konwersja na tekst\n",
    "print(\"Zakres przestrzenny:\", zakres)\n",
    "\n",
    "# liczba obiektów\n",
    "liczba_obiekty = wektor.featureCount()\n",
    "print(\"Liczba obiektów:\", liczba_obiekty)\n",
    "\n",
    "# liczba atrybutów\n",
    "liczba_atrybuty = wektor.fields()\n",
    "liczba_atrybuty = liczba_atrybuty.count()\n",
    "print(\"Liczba atrybutów:\", liczba_atrybuty)\n",
    "\n",
    "# układ współrzędnych\n",
    "uklad = wektor.crs()\n",
    "uklad = uklad.authid() # zwraca kod EPSG\n",
    "print(\"CRS:\", uklad)"
   ]
  },
  {
   "cell_type": "markdown",
   "id": "7eb0a3b7",
   "metadata": {},
   "source": [
    "### Zapisywanie\n",
    "\n",
    "Do zapisu danych wektorowych można wykorzystać dwie klasy:\n",
    "1. [QgsVectorFileWriter](https://qgis.org/pyqgis/master/core/QgsVectorFileWriter.html) -- zapis danych wyłącznie jako pliki na dysku.\n",
    "2. [QgsVectorLayerExporter](https://qgis.org/pyqgis/master/core/QgsVectorLayerExporter.html) -- możliwe wykorzystanie różnych backendów (*data providers*), np. zapis do bazy danych."
   ]
  },
  {
   "cell_type": "markdown",
   "id": "e9b6b62c",
   "metadata": {},
   "source": [
    "Pierwszy sposób używając `QgsVectorFileWriter`."
   ]
  },
  {
   "cell_type": "markdown",
   "id": "8d5f3d34",
   "metadata": {},
   "source": [
    "```python\n",
    "from qgis.core import QgsVectorFileWriter, QgsCoordinateTransformContext\n",
    "\n",
    "output_path = \"test.geojson\"\n",
    "# opcje zapisu\n",
    "options = QgsVectorFileWriter.SaveVectorOptions()\n",
    "options.driverName = \"GeoJSON\"\n",
    "options.fileEncoding = \"UTF-8\"\n",
    "\n",
    "writer = QgsVectorFileWriter.writeAsVectorFormatV3(\n",
    "    layer = wektor,\n",
    "    fileName = output_path,\n",
    "    transformContext = QgsCoordinateTransformContext(),\n",
    "    options = options\n",
    ")\n",
    "\n",
    "if writer[0] != 0:\n",
    "    print(\"Błąd zapisu\")\n",
    "else: \n",
    "    print(\"OK\")\n",
    "```"
   ]
  },
  {
   "cell_type": "markdown",
   "id": "504cd270",
   "metadata": {},
   "source": [
    "Alternatywne podejście z zastosowaniem `QgsVectorLayerExporter`."
   ]
  },
  {
   "cell_type": "markdown",
   "id": "5d123db1",
   "metadata": {},
   "source": [
    "```python\n",
    "from qgis.core import QgsVectorLayerExporter\n",
    "\n",
    "output_path = \"test.geojson\"\n",
    "output_format = \"GeoJSON\"\n",
    "\n",
    "QgsVectorLayerExporter.exportLayer(\n",
    "    layer = wektor,\n",
    "    uri = output_path,\n",
    "    providerKey = \"ogr\",\n",
    "    destCRS = wektor.crs(),\n",
    "    options = {\"driverName\": output_format} # jako słownik\n",
    ")\n",
    "\n",
    "if writer[0] != 0:\n",
    "    print(\"Błąd zapisu\")\n",
    "else: \n",
    "    print(\"OK\")\n",
    "```"
   ]
  },
  {
   "cell_type": "markdown",
   "id": "82a3ca20",
   "metadata": {},
   "source": [
    "## Dane rastrowe\n",
    "\n",
    "### Wczytywanie\n",
    "\n",
    "Wczytanie danych rastrowych wygląda podobnie jak w przypadku danych wektorowych z tą różnicą, iż służy do tego klasa [QgsRasterLayer](https://qgis.org/pyqgis/master/core/QgsRasterLayer.html). Wczytajmy plik `DEM.tif`, który znajduje się w katalogu `dane`."
   ]
  },
  {
   "cell_type": "code",
   "execution_count": 5,
   "id": "98a05f19",
   "metadata": {},
   "outputs": [
    {
     "name": "stdout",
     "output_type": "stream",
     "text": [
      "True\n"
     ]
    }
   ],
   "source": [
    "from qgis.core import QgsRasterLayer\n",
    "\n",
    "sciezka_do_pliku = os.path.join(\"algorytmy-geoprzestrzenne\", \"dane\", \"DEM.tif\")\n",
    "raster = QgsRasterLayer(sciezka_do_pliku, \"DEM\")\n",
    "print(raster.isValid())"
   ]
  },
  {
   "cell_type": "markdown",
   "id": "01622cba",
   "metadata": {},
   "source": [
    "Po prawidłowym wczytaniu warstwy, również możemy ją zwizualizować w QGIS."
   ]
  },
  {
   "cell_type": "markdown",
   "id": "396d2424",
   "metadata": {},
   "source": [
    "```python\n",
    "from qgis.core import QgsProject\n",
    "QgsProject.instance().addMapLayer(raster)\n",
    "```"
   ]
  },
  {
   "cell_type": "markdown",
   "id": "e3a119db",
   "metadata": {},
   "source": [
    "### Wyświetlanie metadanych"
   ]
  },
  {
   "cell_type": "markdown",
   "id": "3bf2fc97",
   "metadata": {},
   "source": [
    "Używając odpowiednich metod na rastrze możemy uzyskać następujące informacje:\n",
    "- liczba wierszy, kolumn i kanałów,\n",
    "- zakres przestrzenny,\n",
    "- układ przestrzenny,\n",
    "- rozdzielczość komórki."
   ]
  },
  {
   "cell_type": "code",
   "execution_count": 6,
   "id": "d06158b1",
   "metadata": {},
   "outputs": [
    {
     "name": "stdout",
     "output_type": "stream",
     "text": [
      "Liczba kolumn (Szerokość): 533\n",
      "Liczba wierszy (Wysokość): 608\n",
      "Liczba kanałów: 1\n",
      "Zakres: 253698.3311999999859836,353734.3616000000038184 : 520058.2303000000538304,657570.7552000000141561\n",
      "CRS: EPSG:2180\n",
      "Rozdzielczość (Rozmiar komórki): 499.73714652908075 499.7309105263158\n"
     ]
    }
   ],
   "source": [
    "print(\"Liczba kolumn (Szerokość):\", raster.width())\n",
    "print(\"Liczba wierszy (Wysokość):\", raster.height())\n",
    "print(\"Liczba kanałów:\", raster.bandCount())\n",
    "print(\"Zakres:\", raster.extent().toString())\n",
    "print(\"CRS:\", raster.crs().authid())\n",
    "print(\"Rozdzielczość (Rozmiar komórki):\", raster.rasterUnitsPerPixelX(),\n",
    "      raster.rasterUnitsPerPixelY())"
   ]
  },
  {
   "cell_type": "markdown",
   "id": "46d40b0a",
   "metadata": {},
   "source": [
    "Co więcej, każdy z kanałów rastra zawiera dodatkowe informacje, takie jak:\n",
    "- nazwa kanału,\n",
    "- wartość reprezentująca brak danych (*NoData*),\n",
    "- typ danych,\n",
    "- wartość maksymalna,\n",
    "- wartość minimalna."
   ]
  },
  {
   "cell_type": "code",
   "execution_count": 7,
   "id": "526dbd22",
   "metadata": {},
   "outputs": [
    {
     "name": "stdout",
     "output_type": "stream",
     "text": [
      "Nazwa kanału: Band 1\n",
      "Wartość NoData: 9999.0\n",
      "Typ danych: Float32\n",
      "Wartość minimalna: -68.71467590332031\n",
      "Wartość maksymalna: 459.58660888671875\n"
     ]
    }
   ],
   "source": [
    "# nasz raster składa się tylko z jednego kanału\n",
    "for band in range(1, raster.bandCount() + 1):\n",
    "    print(\"Nazwa kanału:\", raster.bandName(band))\n",
    "    print(\"Wartość NoData:\", raster.dataProvider().sourceNoDataValue(band))\n",
    "    print(\"Typ danych:\", raster.dataProvider().dataType(band).name)\n",
    "    print(\"Wartość minimalna:\", raster.dataProvider().bandStatistics(band).minimumValue)\n",
    "    print(\"Wartość maksymalna:\", raster.dataProvider().bandStatistics(band).maximumValue)"
   ]
  },
  {
   "cell_type": "markdown",
   "id": "e2dd543f",
   "metadata": {},
   "source": [
    "### Zapisywanie\n",
    "\n",
    "Do zapisu danych rastrowych służy klasa [QgsRasterFileWriter](https://qgis.org/pyqgis/master/core/QgsRasterFileWriter.html)."
   ]
  },
  {
   "cell_type": "markdown",
   "id": "7f18075d",
   "metadata": {},
   "source": [
    "```python\n",
    "from qgis.core import QgsRasterFileWriter, QgsRasterPipe, QgsCoordinateTransformContext\n",
    "\n",
    "output_path = \"test.tif\"\n",
    "\n",
    "writer = QgsRasterFileWriter(output_path)\n",
    "writer.setCreateOptions([\"COMPRESS=LZW\"]) # opcje jako lista\n",
    "pipe = QgsRasterPipe()\n",
    "provider = raster.dataProvider()\n",
    "pipe.set(provider.clone())\n",
    "\n",
    "status = writer.writeRaster(\n",
    "    pipe = pipe,\n",
    "    nCols = provider.xSize(),\n",
    "    nRows = provider.ySize(),\n",
    "    outputExtent = provider.extent(),\n",
    "    crs = provider.crs(),\n",
    "    transformContext = QgsCoordinateTransformContext()\n",
    ")\n",
    "\n",
    "# writeRaster zwraca RasterFileWriterResult\n",
    "if status != 0:\n",
    "    print(\"Błąd zapisu\")\n",
    "else: \n",
    "    print(\"OK\")\n",
    "```"
   ]
  },
  {
   "cell_type": "markdown",
   "id": "062964df",
   "metadata": {},
   "source": [
    "# Zadania\n",
    "\n",
    "5) Napisz funkcję, która obliczy wielkość komórki na podstawie zakresu przestrzennego oraz liczby kolumn i wierszy rastra.\n",
    "6) Napisz funkcję (`wyswietl_metadane`), która zaprezentuje metadane warstwy wektorowej oraz rastrowej w czytelny sposób. Do sprawdzenia typu obiektu wykorzystaj funkcję `isinstance`."
   ]
  }
 ],
 "metadata": {
  "kernelspec": {
   "display_name": "Python 3 (ipykernel)",
   "language": "python",
   "name": "python3"
  },
  "language_info": {
   "codemirror_mode": {
    "name": "ipython",
    "version": 3
   },
   "file_extension": ".py",
   "mimetype": "text/x-python",
   "name": "python",
   "nbconvert_exporter": "python",
   "pygments_lexer": "ipython3",
   "version": "3.12.7"
  },
  "subtitle": "Wprowadzenie do PyQGIS",
  "title": "Algorytmy danych geoprzestrzennych"
 },
 "nbformat": 4,
 "nbformat_minor": 5
}
