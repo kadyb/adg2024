{
 "cells": [
  {
   "cell_type": "markdown",
   "id": "3899264a",
   "metadata": {},
   "source": [
    "<font size=\"5\">**Algorytmy danych geoprzestrzennych**</font><br>\n",
    "<font size=\"4\">Transformacje</font>\n",
    "\n",
    "<font size=\"4\">Krzysztof Dyba</font>"
   ]
  },
  {
   "cell_type": "markdown",
   "id": "e781dfd3",
   "metadata": {},
   "source": [
    "# Dane rastrowe\n",
    "\n",
    "Dane rastrowe w systemach informacji geograficznej reprezentują przestrzeń geograficzną poprzez georeferencję, która składa się z:\n",
    "\n",
    "- zakresu przestrzennego (określonego przez cztery współrzędne),\n",
    "- rozdzielczości przestrzennej (np. metry na piksel),\n",
    "- układu przestrzennego.\n",
    "\n",
    "Znając te parametry możemy dokonać transformacji z układu rastra (definiowanego przez wiersze oraz kolumny) do układu geograficznego (definiowanego przez długość oraz szerokość geograficzną) w następujący sposób:\n",
    "\n",
    "$$\n",
    "x = \\text{x_min} + (\\text{column} + 0.5) \\times \\text{x_res}\n",
    "$$\n",
    "\n",
    "$$\n",
    "y = \\text{y_max} - (\\text{row} + 0.5) \\times \\text{y_res}\n",
    "$$\n",
    "\n",
    "Można także przeprowadzić tę operację w drugą stronę, obliczając numer wiersza i kolumny na podstawie współrzędnych geograficznych:\n",
    "\n",
    "$$\n",
    "\\text{column} = \\text{floor} ( \\frac{x - \\text{x_min}}{\\text{x_res}} )\n",
    "$$\n",
    "\n",
    "$$\n",
    "\\text{row} = \\text{floor} ( \\frac{\\text{y_max} - y}{\\text{y_res}} )\n",
    "$$\n",
    "\n",
    "Powyższe funkcje zakładają, że początek układu znajduje się w lewym górnym rogu."
   ]
  },
  {
   "cell_type": "markdown",
   "id": "39b71204",
   "metadata": {},
   "source": [
    "# Dane wektorowe\n",
    "\n",
    "Transformacje wektorowe to operacje matematyczne, które modyfikują geometrię obiektów. Zaliczamy do nich:\n",
    "\n",
    "## Przesunięcie\n",
    "\n",
    "Przesunięcie obiektu o określoną odległość w określonym kierunku (nie zmienia rozmiaru, kształtu ani orientacji obiektu).\n",
    "\n",
    "$$\n",
    "x' = x + \\Delta x\n",
    "$$\n",
    "\n",
    "$$\n",
    "y' = y + \\Delta y\n",
    "$$\n",
    "\n",
    "## Przeskalowanie\n",
    "\n",
    "Zmiana rozmiaru obiektu używając punkt obrotu oraz współczynnik skalowania. Współczynnik może być jednakowy w obu kierunkach lub różny (wtedy dodatkowo zmianie ulegnie kształt obiektu).\n",
    "\n",
    "$$\n",
    "x' = \\Delta x \\times (x - px) + px\n",
    "$$\n",
    "\n",
    "$$\n",
    "y' = \\Delta y \\times (y - py) + py\n",
    "$$\n",
    "\n",
    "## Transpozycja\n",
    "\n",
    "Zamiana współrzędnych X i Y obiektów.\n",
    "\n",
    "$$\n",
    "x' = y\n",
    "$$\n",
    "\n",
    "$$\n",
    "y' = x\n",
    "$$\n",
    "\n",
    "## Odbicie\n",
    "\n",
    "Odbicie obiektu przez określoną linię (oś odbicia), tworząc obraz lustrzany.\n",
    "\n",
    "Odbicie pionowe, w którym $a$ to linia wertykalna:\n",
    "\n",
    "$$\n",
    "x' = 2a - x\n",
    "$$\n",
    "\n",
    "$$\n",
    "y' = y\n",
    "$$\n",
    "\n",
    "Odbicie poziome, w którym $b$ to linia horyzontalna:\n",
    "\n",
    "$$\n",
    "x' = x\n",
    "$$\n",
    "\n",
    "$$\n",
    "y' = 2b - y\n",
    "$$\n",
    "\n",
    "## Obrócenie\n",
    "\n",
    "Obrócenie obiektu wokół określonego punktu (np. centroidu) o dany kąt $\\theta$ wyrażony w radianach (zmienia orientację obiektu, ale zachowuje jego kształt i rozmiar).\n",
    "\n",
    "$$\n",
    "\\theta = -\\frac{\\theta \\times \\pi}{180}\n",
    "$$\n",
    "\n",
    "$$\n",
    "x' = (x - px) \\times \\cos(\\theta) - (y - py) \\times \\sin(\\theta) + px\n",
    "$$\n",
    "\n",
    "$$\n",
    "y' = (x - px) \\times \\sin(\\theta) + (y - py) \\times \\cos(\\theta) + py\n",
    "$$\n",
    "\n",
    "# Przykład\n",
    "\n",
    "Spróbujmy stworzyć prostą funkcję `shift()`, która pozwoli przesunąć geometrię o zadane współrzędne X (`dx`) i Y (`dy`). Jako wejście wykorzystajmy reprezentacje WKT. Najistotniejszym zadaniem jest przesunięcie każdego wierzchołka o określoną odległość, do czego niezbędne jest zastosowanie pętli. Aby odwołać się do wierzchołków należy wykorzystać metodę `vertices()`. Ostatni etap działa funkcji związany jest z odtworzeniem właściwej geometrii linii lub poligonu i zwrócenie wyniku."
   ]
  },
  {
   "cell_type": "code",
   "execution_count": 1,
   "id": "b33af087",
   "metadata": {},
   "outputs": [],
   "source": [
    "def shift(wkt, dx, dy):\n",
    "    from qgis.core import QgsGeometry, QgsPointXY\n",
    "    \n",
    "    geometry = QgsGeometry.fromWkt(wkt)\n",
    "    geom_type = geometry.type().name\n",
    "    vertices = geometry.vertices()\n",
    "    \n",
    "    shifted = []\n",
    "    for vertex in vertices:\n",
    "        new_x = vertex.x() + dx\n",
    "        new_y = vertex.y() + dy\n",
    "        shifted.append(QgsPointXY(new_x, new_y))\n",
    "    \n",
    "    if geom_type == \"Point\":\n",
    "        return shifted\n",
    "    elif geom_type == \"Line\":\n",
    "        new_geom = QgsGeometry.fromPolylineXY(shifted)\n",
    "    elif geom_type == \"Polygon\":\n",
    "        new_geom = QgsGeometry.fromPolygonXY([shifted])\n",
    "    else:\n",
    "        raise ValueError(\"Nieobsługiwana geometria!\")\n",
    "    \n",
    "    return new_geom"
   ]
  },
  {
   "cell_type": "code",
   "execution_count": 2,
   "id": "23123aa8",
   "metadata": {},
   "outputs": [
    {
     "name": "stdout",
     "output_type": "stream",
     "text": [
      "<QgsGeometry: Polygon ((50 35, 70 35, 60 45, 50 35))>\n"
     ]
    }
   ],
   "source": [
    "poly = \"POLYGON ((40 30, 60 30, 50 40, 40 30))\"\n",
    "poly_shift = shift(poly, dx = 10, dy = 5)\n",
    "print(poly_shift)"
   ]
  },
  {
   "cell_type": "markdown",
   "id": "c46d3c69",
   "metadata": {},
   "source": [
    "W kolejnym kroku możemy wyświetlić zmodyfikowaną geometrię używając biblioteki `matplotlib`. Jednak, uprzednio musimy zdefiniować pomocniczą funkcję, która posłuży do konwersji obiektu `QgsGeometry` (lub WKT) do współrzędnych zapisanych jako listy z liczbami."
   ]
  },
  {
   "cell_type": "code",
   "execution_count": 3,
   "id": "44537b10",
   "metadata": {},
   "outputs": [],
   "source": [
    "def geometry_to_coords(geometry):\n",
    "    from qgis.core import QgsGeometry\n",
    "    \n",
    "    # przypadek geometrii z WKT\n",
    "    if isinstance(geometry, str):\n",
    "        geometry = QgsGeometry.fromWkt(geometry)\n",
    "    \n",
    "    geom_type = geometry.type().name\n",
    "    \n",
    "    if geom_type == \"Point\":\n",
    "        x, y = geometry.asPoint()\n",
    "    elif geom_type == \"Line\":\n",
    "        points = geometry.asPolyline()\n",
    "        x, y = zip(*points)\n",
    "    elif geom_type == \"Polygon\":\n",
    "        points = geometry.asPolygon()\n",
    "        for p in points:\n",
    "            x, y = zip(*p)\n",
    "    else:\n",
    "        raise ValueError(\"Nieobsługiwana geometria!\")\n",
    "    \n",
    "    return x, y"
   ]
  },
  {
   "cell_type": "markdown",
   "id": "4564dff9",
   "metadata": {},
   "source": [
    "Teraz wyświetlmy obie geometrie."
   ]
  },
  {
   "cell_type": "code",
   "execution_count": 4,
   "id": "0b638060",
   "metadata": {},
   "outputs": [
    {
     "data": {
      "image/png": "[encoded data removed]",
      "text/plain": [
       "<Figure size 400x300 with 1 Axes>"
      ]
     },
     "metadata": {},
     "output_type": "display_data"
    }
   ],
   "source": [
    "import matplotlib.pyplot as plt\n",
    "\n",
    "x1 = geometry_to_coords(poly)[0]\n",
    "y1 = geometry_to_coords(poly)[1]\n",
    "x2 = geometry_to_coords(poly_shift)[0]\n",
    "y2 = geometry_to_coords(poly_shift)[1]\n",
    "\n",
    "plt.figure(figsize = (4, 3))\n",
    "plt.plot(x1, y1, color = \"grey\", linestyle = \"dashed\", zorder = 1)\n",
    "plt.fill(x2, y2, color = \"blue\", zorder = 2)\n",
    "plt.title(\"Przesunięcie (dx = 10, dy = 5)\")\n",
    "plt.show()"
   ]
  },
  {
   "cell_type": "markdown",
   "id": "08dd6cad",
   "metadata": {},
   "source": [
    "# Zadania:\n",
    "\n",
    "17) Napisz funkcje `xy_from_colrow()` oraz `colrow_from_xy()`, które umożliwią transformację kolumn i wierszy na współrzędne geograficzne oraz transformację w drugą stronę. Uwzględnij warunek sprawdzający czy szukane parametry znajdują się w zakresie rastra, tj. nie wychodzą poza jego zasięg.\n",
    "18) Zaimplementuj dwie wybrane operacje transformacji geometrii, a następnie wyświetl ich wyniki. Jako przykładowe dane wykorzystaj poligon `\"POLYGON ((40 30, 60 30, 50 40, 40 30))\"`."
   ]
  }
 ],
 "metadata": {
  "kernelspec": {
   "display_name": "Python 3 (ipykernel)",
   "language": "python",
   "name": "python3"
  },
  "language_info": {
   "codemirror_mode": {
    "name": "ipython",
    "version": 3
   },
   "file_extension": ".py",
   "mimetype": "text/x-python",
   "name": "python",
   "nbconvert_exporter": "python",
   "pygments_lexer": "ipython3",
   "version": "3.12.7"
  },
  "subtitle": "Transformacje",
  "title": "Algorytmy danych geoprzestrzennych"
 },
 "nbformat": 4,
 "nbformat_minor": 5
}
