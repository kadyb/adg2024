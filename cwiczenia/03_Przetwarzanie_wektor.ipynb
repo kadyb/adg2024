{
 "cells": [
  {
   "cell_type": "markdown",
   "id": "338ad554",
   "metadata": {},
   "source": [
    "<font size=\"5\">**Algorytmy danych geoprzestrzennych**</font><br>\n",
    "<font size=\"4\">Przetwarzanie danych wektorowych</font>\n",
    "\n",
    "<font size=\"4\">Krzysztof Dyba</font>"
   ]
  },
  {
   "cell_type": "markdown",
   "id": "e017ea00",
   "metadata": {},
   "source": [
    "Na początku wczytajmy warstwę wektorową `powiaty.gpkg`, a następnie sprawdźmy podstawowe metadane."
   ]
  },
  {
   "cell_type": "code",
   "execution_count": 1,
   "id": "4ef0e5bb",
   "metadata": {},
   "outputs": [
    {
     "name": "stdout",
     "output_type": "stream",
     "text": [
      "True\n"
     ]
    }
   ],
   "source": [
    "import os\n",
    "from qgis.core import QgsVectorLayer\n",
    "\n",
    "# wczytanie warstwy wektorowej\n",
    "filepath = os.path.join(\"algorytmy-geoprzestrzenne\", \"dane\", \"powiaty.gpkg\")\n",
    "vector = QgsVectorLayer(filepath, \"powiaty\", \"ogr\")\n",
    "print(vector.isValid())"
   ]
  },
  {
   "cell_type": "code",
   "execution_count": 2,
   "id": "bac5d526",
   "metadata": {},
   "outputs": [
    {
     "name": "stdout",
     "output_type": "stream",
     "text": [
      "35\n",
      "5\n",
      "['fid', 'JPT_KOD_JE', 'JPT_NAZWA_', 'IIP_IDENTY', 'IIP_WERSJA']\n"
     ]
    }
   ],
   "source": [
    "# wyświetlenie metadanych\n",
    "print(vector.featureCount())\n",
    "print(vector.fields().count())\n",
    "print(vector.fields().names())"
   ]
  },
  {
   "cell_type": "markdown",
   "id": "2f802a0e",
   "metadata": {},
   "source": [
    "Wczytana warstwa składa się z 35 obiektów oraz 5 atrybutów (inne określenie to kolumny bądź pola)."
   ]
  },
  {
   "cell_type": "markdown",
   "id": "f2821145",
   "metadata": {},
   "source": [
    "# Dostęp do obiektów\n",
    "\n",
    "Iterowanie po obiektach warstwy wektorowej umożliwia dostęp lub modyfikowanie geometrii/atrybutów tych obiektów. Do tego celu służy metoda `getFeatures()`. Geometria obiektu dostępna jest za pomocą metody `geometry()` (klasa [QgsGeometry](https://qgis.org/pyqgis/master/core/QgsGeometry.html)), natomiast atrybuty za pomocą metody `attributes()`.\n",
    "\n",
    "W poniższym przykładzie wykorzystamy funkcję `islice` z biblioteki `itertools`, która zwróci tylko 5 pierwszych obiektów."
   ]
  },
  {
   "cell_type": "code",
   "execution_count": 3,
   "id": "e720f824",
   "metadata": {},
   "outputs": [
    {
     "name": "stdout",
     "output_type": "stream",
     "text": [
      "[1, '3012', 'powiat krotoszyński', 'dc54ce6a-5272-45fc-a49c-824dbf170f2c', '2024-09-05T13:41:42+02:00']\n",
      "[2, '3002', 'powiat czarnkowsko-trzcianecki', 'b2e00ebb-412b-4ae8-9afc-fe68f65bb1ac', '2021-05-11T10:49:15+02:00']\n",
      "[3, '3009', 'powiat kolski', '06a4a975-dc89-4ac3-9d51-cf188532908a', '2012-09-27T08:59:03+02:00']\n",
      "[4, '3029', 'powiat wolsztyński', '6f988fb3-2b2c-467e-9d07-c512d9215c05', '2024-08-27T13:56:13+02:00']\n",
      "[5, '3026', 'powiat śremski', '2fc58bb6-d095-4f37-8f10-874797cb97fb', '2024-09-03T13:42:56+02:00']\n"
     ]
    }
   ],
   "source": [
    "from itertools import islice\n",
    "\n",
    "# iteracja po obiektach\n",
    "for feature in islice(vector.getFeatures(), 5):\n",
    "    # dostęp do atrybutów obiektu\n",
    "    attrs = feature.attributes()\n",
    "    # dostęp do geometrii obiektu\n",
    "    geom = feature.geometry()\n",
    "    \n",
    "    print(attrs)\n",
    "    # print(geom)"
   ]
  },
  {
   "cell_type": "markdown",
   "id": "5c7b2a9a",
   "metadata": {},
   "source": [
    "# Obliczanie powierzchni\n",
    "\n",
    "W celu obliczenia powierzchni poligonów musimy wykonać pętle po wszystkich obiektach znajdujących się w warstwie i uzyskać dostęp do ich geometrii. Następnie, należy wykorzystać metodę `area()`, która oblicza pole powierzchni w jednostkach układu współrzędnych warstwy (zazwyczaj są to metry kwadratowe) w układzie planarnym (kartezjańskim). Opcjonalnie, możemy dokonać konwersji jednostek, np. na kilometry kwadratowe czy hektary. W niniejszym przykładzie wszystkie obiekty w warstwie posiadają geometrie."
   ]
  },
  {
   "cell_type": "code",
   "execution_count": 4,
   "id": "db34de4a",
   "metadata": {},
   "outputs": [
    {
     "name": "stdout",
     "output_type": "stream",
     "text": [
      "712.7437283077061\n",
      "1806.6288683868954\n",
      "1009.273272845488\n",
      "679.340479768619\n",
      "573.5639814826102\n"
     ]
    }
   ],
   "source": [
    "for feature in islice(vector.getFeatures(), 5):\n",
    "    area = feature.geometry().area()\n",
    "    area = area / 1000**2 # konwersja na km^2\n",
    "    print(area)"
   ]
  },
  {
   "cell_type": "markdown",
   "id": "026ece3f",
   "metadata": {},
   "source": [
    "# Dodawanie atrybutów\n",
    "\n",
    "Dodawanie atrybutów do warstwy wektorowej obejmuje modyfikację tabeli atrybutów poprzez dodanie nowych atrybutów i opcjonalnie ich wypełnienie. Operacja składa się z kilku kroków:\n",
    "1. Na początku należy włączyć tryb edycji warstwy `startEditing()`, aby ją zmodyfikować.\n",
    "2. Kolejny krok to zdefiniowanie nowego atrybutu wykorzystując klasę `QgsField`. Każdy atrybut posiada nazwę, typ danych i opcjonalne ograniczenia (długość, precyzja). Zdefiniowanie kilku atrybutów wymaga przekazanie ich jako listy. Następnie należy użyć metod `addAttributes()` oraz `updateFields()`, aby dodać nowe pole do tabeli atrybutów i ją zaktualizować.\n",
    "3. Jeśli chcemy uzupełnić nowo utworzony atrybut, to musimy zastosować pętle po obiektach i zaktualizować wartość wybranego atrybutu używając metody `changeAttributeValue()`, w której kolejno określimy ID obiektu, indeks atrybutu oraz wartość.\n",
    "4. W ostatnim kroku należy zatwierdzić i zapisać wprowadzone zmiany używając `commitChanges()`.\n",
    "\n",
    "Uwaga odnośnie typów danych atrybutów w QGIS! Od wersji 3.38 typy danych zdefiniowane są w klasie `QMetaType` (np. `QMetaType.Type.Double`, `QMetaType.Type.QString`). Wcześniej była to klasa `QVariant` (np. `QVariant.Double`, `QVariant.String`)."
   ]
  },
  {
   "cell_type": "code",
   "execution_count": 5,
   "id": "07a4a9d4",
   "metadata": {},
   "outputs": [
    {
     "data": {
      "text/plain": [
       "True"
      ]
     },
     "execution_count": 5,
     "metadata": {},
     "output_type": "execute_result"
    }
   ],
   "source": [
    "from qgis.core import QgsField\n",
    "from qgis.PyQt.QtCore import QMetaType\n",
    "\n",
    "# (1) rozpoczęcie trybu edycji warstwy\n",
    "vector.startEditing()\n",
    "\n",
    "# (2) dodanie nowego atrybutu do tabeli\n",
    "new_field = [QgsField(\"pole_km2\", QMetaType.Type.Double)]\n",
    "vector.dataProvider().addAttributes(new_field)\n",
    "vector.updateFields()\n",
    "\n",
    "# indeks nowego atrybutu\n",
    "area_idx = vector.fields().indexOf(\"pole_km2\")\n",
    "\n",
    "# (3) obliczenie powierzchni dla każdego obiektu\n",
    "for feature in vector.getFeatures():\n",
    "    area = feature.geometry().area()\n",
    "    area = area / 1000**2\n",
    "    # wprowadzenie wartości do atrybutu obiektu\n",
    "    vector.changeAttributeValue(feature.id(), area_idx, area)\n",
    "\n",
    "# (4) zapisanie zmian\n",
    "vector.commitChanges()"
   ]
  },
  {
   "cell_type": "markdown",
   "id": "f48bbf48",
   "metadata": {},
   "source": [
    "Sprawdźmy teraz czy wykonany kod zadziałał prawidłowo."
   ]
  },
  {
   "cell_type": "code",
   "execution_count": 6,
   "id": "34512e3f",
   "metadata": {},
   "outputs": [
    {
     "name": "stdout",
     "output_type": "stream",
     "text": [
      "True\n",
      "712.7437283077061\n",
      "1806.6288683868954\n",
      "1009.273272845488\n",
      "679.340479768619\n",
      "573.5639814826102\n"
     ]
    }
   ],
   "source": [
    "print(\"pole_km2\" in vector.fields().names())\n",
    "\n",
    "for feature in islice(vector.getFeatures(), 5):\n",
    "    print(feature.attribute(\"pole_km2\"))"
   ]
  },
  {
   "cell_type": "markdown",
   "id": "fdc2c002",
   "metadata": {},
   "source": [
    "# Wybieranie obiektów\n",
    "\n",
    "Obiekty z warstwy wektorowej można wybrać (wyselekcjonować) na podstawie różnych kryteriów, takich jak wartości atrybutów czy położenie przestrzenne.\n",
    "\n",
    "## Atrybut\n",
    "\n",
    "Zasadniczo, istnieją dwa sposoby wybierania obiektów z uwzględnieniem wartości atrybutów:\n",
    "1. `selectByExpression()` z klasy `QgsVectorLayer`.\n",
    "2. `setFilterExpression()` z klasy `QgsFeatureRequest`.\n",
    "\n",
    "Pierwszy sposób `selectByExpression()` to metoda służąca do wybierania obiektów w warstwie na podstawie określonego wyrażenia. Co najważniejsze, wybór odbywa się z uwzględnieniem wszystkich obiektów i jest tymczasowy."
   ]
  },
  {
   "cell_type": "code",
   "execution_count": 7,
   "id": "594c45b2",
   "metadata": {},
   "outputs": [
    {
     "name": "stdout",
     "output_type": "stream",
     "text": [
      "4\n"
     ]
    }
   ],
   "source": [
    "expression = '\"pole_km2\" > 1300'\n",
    "vector.selectByExpression(expression)\n",
    "selected_features = vector.selectedFeatures()\n",
    "print(len(selected_features)) # liczba obiektów\n",
    "\n",
    "# for feature in selected_features:\n",
    "    # print(feature.attributes())"
   ]
  },
  {
   "cell_type": "markdown",
   "id": "afbc80fb",
   "metadata": {},
   "source": [
    "Jeśli kod wykonaliśmy w QGIS, to wybrane obiekty możemy podświetlić na mapie w następujący sposób:"
   ]
  },
  {
   "cell_type": "markdown",
   "id": "d2e3e27c",
   "metadata": {},
   "source": [
    "```python\n",
    "from qgis.core import QgsProject\n",
    "QgsProject.instance().addMapLayer(vector)\n",
    "vector.selectByIds([feature.id() for feature in selected_features])\n",
    "```"
   ]
  },
  {
   "cell_type": "markdown",
   "id": "9f8bc959",
   "metadata": {},
   "source": [
    "Natomiast drugi sposób, `setFilterExpression()` stosuje filtr przy wczytywaniu danych (`getFeatures()`). Obiekty, które nie spełniają kryteriów, nie są dodawane do sesji. Zwiększa to wydajność przetwarzania poprzez zmniejszenie ilości wczytywanych danych, co jest szczególnie przydatne w przypadku dużych zbiorów."
   ]
  },
  {
   "cell_type": "code",
   "execution_count": 8,
   "id": "c464078c",
   "metadata": {},
   "outputs": [],
   "source": [
    "from qgis.core import QgsFeatureRequest\n",
    "\n",
    "expression = '\"pole_km2\" > 1300'\n",
    "# stworzenie żądania używając wyrażenia\n",
    "request = QgsFeatureRequest().setFilterExpression(expression)\n",
    "\n",
    "# for feature in vector.getFeatures(request):\n",
    "    # print(feature.attributes())"
   ]
  },
  {
   "cell_type": "markdown",
   "id": "40aca8eb",
   "metadata": {},
   "source": [
    "## Lokalizacja\n",
    "\n",
    "Metoda `selectByRect()` umożliwia dokonanie prostej selekcji obiektów używając zakresu przestrzennego (*bounding box*) zdefiniowanego przez prostokąt (`QgsRectangle`) i cztery współrzędne (`xmin`, `ymin`, `xmax`, `ymax`). Bardziej zaawansowane zapytania przestrzenne pozwalają na wybór obiektów na podstawie ich relacji przestrzennej z innymi geometriami (np. wybór obiektów w obrębie poligonu, przecięcie linii)."
   ]
  },
  {
   "cell_type": "code",
   "execution_count": 9,
   "id": "72f45263",
   "metadata": {},
   "outputs": [
    {
     "name": "stdout",
     "output_type": "stream",
     "text": [
      "6\n"
     ]
    }
   ],
   "source": [
    "from qgis.core import QgsRectangle\n",
    "\n",
    "# wybranie obiektów używając prostokąta\n",
    "rect = QgsRectangle(340000, 480000, 380000, 520000) # xmin, ymin, xmax, ymax\n",
    "vector.selectByRect(rect)\n",
    "selected_features = vector.selectedFeatures()\n",
    "print(len(selected_features)) # liczba obiektów\n",
    "\n",
    "# for feature in selected_features:\n",
    "    # print(feature.attributes())"
   ]
  },
  {
   "cell_type": "markdown",
   "id": "e5d662e0",
   "metadata": {},
   "source": [
    "# Tworzenie nowej warstwy\n",
    "\n",
    "Do tworzenia nowej warstwy wektorowej stosuje się tę samą klasę, co do wczytywania, czyli `QgsVectorLayer`, z tą różnicą iż określa się:\n",
    "- Typ geometrii warstwy oraz układ odniesienia (*CRS*). QGIS obsługuje kilka typów geometrii, np. punkty (`Point`), linie (`LineString`), poligony (`Polygon`) i multigeometrie (`Multi*`). Do zdefiniowania układu odniesienia można wykorzystać kod EPSG, np. `EPSG:4326`. Format zapisu jest następujący: `Point?crs=EPSG:4326`.\n",
    "- Nazwę warstwy.\n",
    "- Backend (*data provider*). Nowe warstwy zazwyczaj są tworzone w pamięci (`memory`)."
   ]
  },
  {
   "cell_type": "code",
   "execution_count": 10,
   "id": "37058324",
   "metadata": {},
   "outputs": [
    {
     "name": "stdout",
     "output_type": "stream",
     "text": [
      "True\n"
     ]
    }
   ],
   "source": [
    "# typ geometrii i układ współrzędnych\n",
    "geometry_type = \"Polygon\"\n",
    "crs = \"EPSG:2180\"\n",
    "\n",
    "# stworzenie nowej warstwy wektorowej\n",
    "newlayer = QgsVectorLayer(geometry_type+\"?crs=\"+crs, \"Nowa warstwa\", \"memory\")\n",
    "print(newlayer.isValid())"
   ]
  },
  {
   "cell_type": "markdown",
   "id": "062fd33a",
   "metadata": {},
   "source": [
    "Następnie możemy zdefiniować i dodać do warstwy atrybuty, tak jak zaprezentowano to w sekcji \"**Dodawanie atrybutów**\". Należy pamiętać o włączonym trybie edycji warstwy, a na końcu o zatwierdzeniu zmian."
   ]
  },
  {
   "cell_type": "code",
   "execution_count": 11,
   "id": "c204494f",
   "metadata": {},
   "outputs": [],
   "source": [
    "# rozpoczęcie trybu edycji warstwy\n",
    "newlayer.startEditing()\n",
    "\n",
    "# stworzenie atrybutów\n",
    "fields = [\n",
    "    QgsField(\"ID\", QMetaType.Type.Int),          # ID obiektu\n",
    "    QgsField(\"nazwa\", QMetaType.Type.QString),   # nazwa obiektu\n",
    "    QgsField(\"wartosc\", QMetaType.Type.Double)   # wartość\n",
    "]\n",
    "\n",
    "# dodanie atrybutów do warstwy\n",
    "provider = newlayer.dataProvider()\n",
    "provider.addAttributes(fields)\n",
    "newlayer.updateFields()"
   ]
  },
  {
   "cell_type": "markdown",
   "id": "8e7dea25",
   "metadata": {},
   "source": [
    "W kolejnym kroku możemy stworzyć obiekty (klasa [QgsFeature](https://qgis.org/pyqgis/master/core/QgsFeature.html)), które składają się z geometrii oraz atrybutów. W poniższym przykładzie użyjemy wcześniej zdefiniowanego prostokąta `rect` -- najpierw zmienimy jego geometrię na reprezentację WKT (metoda `asWkt()`), a następnie stworzymy z niego poligon (metoda `fromWkt()`).\n",
    "\n",
    "Innym sposobem konstruowania geometrii obiektów używając współrzędnych jest zastosowanie klasy [QgsPointXY](https://qgis.org/pyqgis/master/core/QgsFeature.html) i odpowiednich metod, np. `fromPointXY()` (do stworzenia punktów), `fromPolylineXY()` (do stworzenia linii) czy `fromPolygonXY()` (do stworzenia poligonów). "
   ]
  },
  {
   "cell_type": "code",
   "execution_count": 12,
   "id": "03cb6a8a",
   "metadata": {},
   "outputs": [],
   "source": [
    "from qgis.core import QgsFeature, QgsGeometry\n",
    "\n",
    "# stworzenie obiektów\n",
    "feature = QgsFeature()\n",
    "polygon_wkt = QgsGeometry.fromRect(rect).asWkt()\n",
    "polygon_geometry = QgsGeometry.fromWkt(polygon_wkt)"
   ]
  },
  {
   "cell_type": "markdown",
   "id": "56f5392c",
   "metadata": {},
   "source": [
    "Finalnie, należy nowemu obiektowi należy nadać geometrię (metoda `setGeometry()`) oraz przypisać atrybutom wartości (metoda `setAttributes()`, po czym wymagane jest dodanie obiektów do warstwy, aktualizacja zasięgu warstwy oraz zapisanie zmian."
   ]
  },
  {
   "cell_type": "code",
   "execution_count": 13,
   "id": "3ccf6ee5",
   "metadata": {},
   "outputs": [
    {
     "data": {
      "text/plain": [
       "True"
      ]
     },
     "execution_count": 13,
     "metadata": {},
     "output_type": "execute_result"
    }
   ],
   "source": [
    "# nadanie geometrii oraz wartości atrybutom\n",
    "feature.setGeometry(polygon_geometry)\n",
    "feature.setAttributes([1, \"Prostokąt\", 999])\n",
    "\n",
    "# dodanie obiektów do warstwy\n",
    "newlayer.addFeature(feature)\n",
    "# aktualizacja zasięgu warstwy\n",
    "newlayer.updateExtents()\n",
    "# zapisanie zmian\n",
    "newlayer.commitChanges()"
   ]
  },
  {
   "cell_type": "markdown",
   "id": "b852729f",
   "metadata": {},
   "source": [
    "Dokonajmy jeszcze weryfikacji stworzonej warstwy."
   ]
  },
  {
   "cell_type": "code",
   "execution_count": 14,
   "id": "53d91d94",
   "metadata": {},
   "outputs": [
    {
     "name": "stdout",
     "output_type": "stream",
     "text": [
      "[1, 'Prostokąt', 999.0]\n",
      "<QgsGeometry: Polygon ((340000 480000, 380000 480000, 380000 520000, 340000 520000, 340000 480000))>\n"
     ]
    }
   ],
   "source": [
    "for feature in newlayer.getFeatures():\n",
    "    print(feature.attributes())\n",
    "    print(feature.geometry())"
   ]
  },
  {
   "cell_type": "code",
   "execution_count": 15,
   "id": "5760dfd2",
   "metadata": {},
   "outputs": [],
   "source": [
    "# wyświetlenie w QGIS\n",
    "# QgsProject.instance().addMapLayer(newlayer)"
   ]
  },
  {
   "cell_type": "markdown",
   "id": "71fde520",
   "metadata": {},
   "source": [
    "# Łączenie geometrii obiektów"
   ]
  },
  {
   "cell_type": "code",
   "execution_count": 16,
   "id": "e827449c",
   "metadata": {},
   "outputs": [],
   "source": [
    "# stworzenie nowej pustej geometrii\n",
    "geometry = None\n",
    "\n",
    "for feature in vector.getFeatures():\n",
    "    geom = feature.geometry()\n",
    "    if geometry is None:                  # pierwsza geometria jako początkowa\n",
    "        geometry = QgsGeometry(geom)\n",
    "    else:                                 # łączy kolejne geometrie\n",
    "        geometry = geometry.combine(geom)\n",
    "        \n",
    "dissolved = QgsFeature()\n",
    "dissolved.setGeometry(geometry)"
   ]
  },
  {
   "cell_type": "markdown",
   "id": "60e7034b",
   "metadata": {},
   "source": [
    "# Tworzenie buforów"
   ]
  },
  {
   "cell_type": "code",
   "execution_count": 17,
   "id": "ae9e052f",
   "metadata": {},
   "outputs": [],
   "source": [
    "# stworzenie pustej warstwy w pamięci\n",
    "buffer_layer = QgsVectorLayer(\"Polygon?crs=\" + vector.crs().authid(), \"Bufor\", \"memory\")\n",
    "\n",
    "# odległość buforu w jednostkach warstwy (m)\n",
    "buffer_distance = 10000.0 # 10 km\n",
    "\n",
    "features = []\n",
    "for feature in [dissolved]: # traktujemy jeden obiekt jako listę\n",
    "    geom = feature.geometry()\n",
    "    # stworzenie geometrii bufora\n",
    "    buffer_geom = geom.buffer(buffer_distance, segments = 30)\n",
    "    buffer_feature = QgsFeature()\n",
    "    buffer_feature.setGeometry(buffer_geom)\n",
    "    features.append(buffer_feature)\n",
    "\n",
    "# dodanie buforów do warstwy wektorowej\n",
    "buffer_layer.dataProvider().addFeatures(features)\n",
    "buffer_layer.updateExtents()\n",
    "\n",
    "# wyświetlenie w QGIS\n",
    "# QgsProject.instance().addMapLayer(buffer_layer)"
   ]
  },
  {
   "cell_type": "markdown",
   "id": "209a8165",
   "metadata": {},
   "source": [
    "# Reprojekcja warstwy\n",
    "\n",
    "1. Pętla i `QgsCoordinateTransform`\n",
    "2. Zapisanie całej warstwy z nowym CRS"
   ]
  },
  {
   "cell_type": "code",
   "execution_count": 18,
   "id": "9ca9da37",
   "metadata": {},
   "outputs": [
    {
     "name": "stdout",
     "output_type": "stream",
     "text": [
      "EPSG:4326\n"
     ]
    }
   ],
   "source": [
    "from qgis.core import QgsProject, QgsCoordinateTransform, QgsCoordinateReferenceSystem\n",
    "\n",
    "source_crs = vector.crs()\n",
    "target_crs = QgsCoordinateReferenceSystem(\"EPSG:4326\")\n",
    "transform = QgsCoordinateTransform(source_crs, target_crs, QgsProject.instance())\n",
    "\n",
    "newlayer = QgsVectorLayer(\"Polygon?crs=\" + target_crs.authid(), \"powiaty_4326\", \"memory\")\n",
    "newlayer.dataProvider().addAttributes(vector.fields())\n",
    "newlayer.updateFields()\n",
    "\n",
    "features = []\n",
    "for feature in vector.getFeatures():\n",
    "    new_feature = feature\n",
    "    geom = feature.geometry()\n",
    "    geom.transform(transform)\n",
    "    new_feature.setGeometry(geom)\n",
    "    features.append(new_feature)\n",
    "    \n",
    "newlayer.dataProvider().addFeatures(features)\n",
    "print(newlayer.crs().authid())\n",
    "\n",
    "# wyświetlenie w QGIS\n",
    "# QgsProject.instance().addMapLayer(newlayer)"
   ]
  },
  {
   "cell_type": "markdown",
   "id": "e27241a2",
   "metadata": {},
   "source": [
    "```python\n",
    "from qgis.core import QgsVectorFileWriter\n",
    "\n",
    "source_crs = vector.crs()\n",
    "target_crs = QgsCoordinateReferenceSystem(\"EPSG:4326\")\n",
    "context = QgsProject.instance().transformContext()\n",
    "\n",
    "output_path = \"powiaty_4326.gpkg\"\n",
    "options = QgsVectorFileWriter.SaveVectorOptions()\n",
    "options.driverName = \"GPKG\"\n",
    "options.ct = QgsCoordinateTransform(source_crs, target_crs, context)\n",
    "\n",
    "writer = QgsVectorFileWriter.writeAsVectorFormatV3(\n",
    "    layer = vector,\n",
    "    fileName = output_path,\n",
    "    transformContext = context,\n",
    "    options = options\n",
    ")\n",
    "\n",
    "if writer[0] != 0:\n",
    "    print(\"Błąd zapisu\")\n",
    "else: \n",
    "    print(\"OK\")\n",
    "```"
   ]
  },
  {
   "cell_type": "markdown",
   "id": "81a7b234",
   "metadata": {},
   "source": [
    "# Zadania:\n",
    "\n",
    "7) Oblicz długość granic i dodaj jako nowy atrybut do warstwy.\n",
    "8) Napisz funkcję, która obliczy podstawowe statystyki opisowe i zastosuj ją dla powierzchni oraz długości.\n",
    "9) Stwórz nową warstwę z obliczonymi centroidami dla powiatów i zapisz ją na dysku w formacie `.gpkg`."
   ]
  }
 ],
 "metadata": {
  "kernelspec": {
   "display_name": "Python 3 (ipykernel)",
   "language": "python",
   "name": "python3"
  },
  "language_info": {
   "codemirror_mode": {
    "name": "ipython",
    "version": 3
   },
   "file_extension": ".py",
   "mimetype": "text/x-python",
   "name": "python",
   "nbconvert_exporter": "python",
   "pygments_lexer": "ipython3",
   "version": "3.12.7"
  },
  "subtitle": "Przetwarzanie danych wektorowych",
  "title": "Algorytmy danych geoprzestrzennych"
 },
 "nbformat": 4,
 "nbformat_minor": 5
}
