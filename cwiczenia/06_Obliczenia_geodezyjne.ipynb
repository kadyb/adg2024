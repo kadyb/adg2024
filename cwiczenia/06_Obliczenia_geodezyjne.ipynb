{
 "cells": [
  {
   "cell_type": "markdown",
   "id": "3633ee98",
   "metadata": {},
   "source": [
    "<font size=\"5\">**Algorytmy danych geoprzestrzennych**</font><br>\n",
    "<font size=\"4\">Obliczenia geodezyjne</font>\n",
    "\n",
    "<font size=\"4\">Krzysztof Dyba</font>"
   ]
  },
  {
   "cell_type": "markdown",
   "id": "5df77d97",
   "metadata": {},
   "source": [
    "# Współrzędne geograficzne\n",
    "\n",
    "Współrzędne geograficzne to zestaw wartości liczbowych używany do określania położenia dowolnego punktu na powierzchni Ziemi. Dwoma podstawowymi składowymi współrzędnych geograficznych są:\n",
    "\n",
    "- szerokość geograficzna (*latitude*; $\\phi$) -- określa jak daleko na północ lub południe znajduje się punkt od równika Ziemi. Przyjmuje wartości z przedziału od 0° do 90° na północ (wartości dodatnie) i od 0° do 90° na południe (wartości ujemne) na biegunach.\n",
    "- długość geograficzna (*longitude*; $\\lambda$) -- określa jak daleko na wschód lub zachód znajduje się punkt od południka zerowego, który przebiega przez Greenwich w Anglii. Przyjmuje wartości z przedziału od 0° do 180° na wschód (wartości dodatnie) i od 0° do 180° na zachód (wartości ujemne).\n",
    "\n",
    "**Uwaga!** Kolejność współrzędnych geograficznych może być różna w zależności od systemu, przyjętego standardu czy oprogramowania, np. norma [ISO 6709](https://en.wikipedia.org/wiki/ISO_6709) definiuje kolejność (szerokość, długość), podczas gdy standardy *Open Geospatial Consortium* określają ją odwrotnie (patrz GeoJSON czy Well-Known Text).\n",
    "\n",
    "Współrzędne geograficzne są zazwyczaj wyrażane w jednym z następujących formatów:\n",
    "\n",
    "- stopnie, minuty i sekundy (*degrees*, *minutes*, *seconds*; DMS) -- stopnie reprezentują miarę kątową. Każdy stopień podzielony jest na 60 minut, a każda minuta na 60 sekund. Przykładowo: 52°17'34\" N, 16°44'08\" E.\n",
    "- stopnie dziesiętne (*decimal degrees*; DD) -- współrzędne wyrażone są jako wartości dziesiętne stopni. Przykładowo: 52,2927° N, 16,7355° E.\n",
    "- współrzędne planarne -- współrzędne wyrażone jako pomiary liniowe w układzie planarnym. Przykładowo: 345613,2393 m, 494269,4463 m (układ PUWG 1992).\n",
    "\n",
    "## Konwersja\n",
    "\n",
    "Wartość DMS konwertowana jest na stopnie dziesiętne przy użyciu następującego wzoru:\n",
    "\n",
    "$$\n",
    "\\text{Stopnie dziesiętne} = \\text{Stopnie} + \\frac{\\text{Minuty}}{60} + \\frac{\\text{Sekundy}}{3600}\n",
    "$$"
   ]
  },
  {
   "cell_type": "code",
   "execution_count": 1,
   "id": "4b804157",
   "metadata": {},
   "outputs": [],
   "source": [
    "def dms_to_decimal(dms_str):\n",
    "    \n",
    "    # zamień znaki na spacje\n",
    "    dms_str = dms_str.replace(\"°\", \" \").replace(\"'\", \" \").replace(\"\\\"\", \" \")\n",
    "    # podziel tekst na części według spacji\n",
    "    parts = dms_str.split()\n",
    "    \n",
    "    degrees = int(parts[0])\n",
    "    minutes = int(parts[1])\n",
    "    seconds = int(parts[2])\n",
    "    direction = parts[3]\n",
    "    \n",
    "    decimal = degrees + (minutes / 60) + (seconds / 3600)\n",
    "    decimal = round(decimal, 4)\n",
    "    \n",
    "    # sprawdź kierunek i nadaj znak\n",
    "    if direction in [\"S\", \"W\"]:\n",
    "        decimal = -decimal\n",
    "    \n",
    "    # zwracany jest typ liczbowy\n",
    "    return decimal"
   ]
  },
  {
   "cell_type": "code",
   "execution_count": 2,
   "id": "15b08ebd",
   "metadata": {},
   "outputs": [
    {
     "name": "stdout",
     "output_type": "stream",
     "text": [
      "52.2928°\n",
      "16.7356°\n"
     ]
    }
   ],
   "source": [
    "print(dms_to_decimal(\"52°17'34\\\" N\"), \"°\", sep = \"\")\n",
    "print(dms_to_decimal(\"16°44'08\\\" E\"), \"°\", sep = \"\")"
   ]
  },
  {
   "cell_type": "markdown",
   "id": "c225794f",
   "metadata": {},
   "source": [
    "Natomiast operacja odwrotna, czyli konwersja stopni dziesiętnych na wartość DMS, wymaga zastosowanie poniższych wzorów:\n",
    "\n",
    "$$\n",
    "\\text{Stopnie dziesiętne} = |\\text{Stopnie dziesiętne}|\n",
    "$$\n",
    "\n",
    "$$\n",
    "\\text{Stopnie} = \\text{int}(\\text{Stopnie dziesiętne})\n",
    "$$\n",
    "\n",
    "$$\n",
    "\\text{Minuty} = \\text{int}\\left((\\text{Stopnie dziesiętne} - \\text{Stopnie}) \\times 60\\right)\n",
    "$$\n",
    "\n",
    "$$\n",
    "\\text{Sekundy} = \\left((\\text{Stopnie dziesiętne} - \\text{Stopnie}) \\times 60 - \\text{Minuty}\\right) \\times 60\n",
    "$$"
   ]
  },
  {
   "cell_type": "markdown",
   "id": "ed68b9f6",
   "metadata": {},
   "source": [
    "# Obliczenia\n",
    "\n",
    "## Odległość\n",
    "\n",
    "W tej sekcji porównamy różne metody obliczania odległości między punktami uwzględniając:\n",
    "\n",
    "- odległość euklidesową (układ kartezjański),\n",
    "- odległość sferyczną,\n",
    "- odległość elipsoidalną.\n",
    "\n",
    "W tym celu wykorzystamy dwa punkty reprezentujące lokalizację Warszawy (21,0122°, 52,2296°) oraz Rzymu (12,5113°, 41,8919°)."
   ]
  },
  {
   "cell_type": "markdown",
   "id": "c883fb37",
   "metadata": {},
   "source": [
    "### Euklidesowa\n",
    "\n",
    "Odległość euklidesowa w przestrzeni dwuwymiarowej definiowana jest jako:\n",
    "\n",
    "$$\n",
    "d=\\sqrt{(\\Delta x)^2+(\\Delta y)^2}=\\sqrt{(x_2-x_1)^2+(y_2-y_1)^2}\n",
    "$$\n",
    "\n",
    "Wynika ona bezpośrednio z twierdzenia Pitagorasa o trójkątach prostokątnych:\n",
    "\n",
    "$$\n",
    "a^2 + b^2 = c^2,\n",
    "$$\n",
    "\n",
    "gdzie $a$ i $b$ to długość przyprostokątnych, a $c$ to długość przeciwprostokątnej."
   ]
  },
  {
   "cell_type": "markdown",
   "id": "6d0c8594",
   "metadata": {},
   "source": [
    "Procedura wymaga zastosowania transformacji współrzędnych z układu elipsoidalnego do kartezjańskiego, aby uzyskać sensowne wyniki. Należy wykorzystać klasę `QgsCoordinateTransform` i na przykład odwzorowanie sferyczne Mercatora (`EPSG:3857`). Po przeprowadzonej transformacji, można obliczyć odległość między punktami używając metodę `distance()`."
   ]
  },
  {
   "cell_type": "code",
   "execution_count": 3,
   "id": "490e4e82",
   "metadata": {},
   "outputs": [
    {
     "name": "stdout",
     "output_type": "stream",
     "text": [
      "Odległość między Warszawą a Rzymem: 1942.97 km\n"
     ]
    }
   ],
   "source": [
    "from qgis.core import QgsPointXY, QgsCoordinateReferenceSystem\n",
    "from qgis.core import QgsCoordinateTransform, QgsCoordinateTransformContext\n",
    "\n",
    "pt1 = (21.0122, 52.2296)\n",
    "pt2 = (12.5113, 41.8919)\n",
    "\n",
    "pt1 = QgsPointXY(pt1[0], pt1[1])\n",
    "pt2 = QgsPointXY(pt2[0], pt2[1])\n",
    "\n",
    "crs_4326 = QgsCoordinateReferenceSystem(\"EPSG:4326\")\n",
    "crs_3857 = QgsCoordinateReferenceSystem(\"EPSG:3857\")\n",
    "transform_context = QgsCoordinateTransformContext()\n",
    "transform = QgsCoordinateTransform(crs_4326, crs_3857, transform_context)\n",
    "\n",
    "pt1_3857 = transform.transform(pt1)\n",
    "pt2_3857 = transform.transform(pt2)\n",
    "\n",
    "distance = pt1_3857.distance(pt2_3857)\n",
    "distance = round(distance / 1000, 2) # wynik w km\n",
    "\n",
    "print(\"Odległość między Warszawą a Rzymem:\", distance, \"km\")"
   ]
  },
  {
   "cell_type": "markdown",
   "id": "37014537",
   "metadata": {},
   "source": [
    "Możemy również samodzielnie zaimplementować metodę `distance()` dla obiektów typu `QgsPointXY` w następujący sposób:"
   ]
  },
  {
   "cell_type": "code",
   "execution_count": 4,
   "id": "3f0ea91e",
   "metadata": {},
   "outputs": [
    {
     "data": {
      "text/plain": [
       "1942.97"
      ]
     },
     "execution_count": 4,
     "metadata": {},
     "output_type": "execute_result"
    }
   ],
   "source": [
    "def euclidean_distance(pt1, pt2):\n",
    "    import math\n",
    "        \n",
    "    # wyodrębnienie współrzędnych z obiektu QgsPoint\n",
    "    x1, y1 = pt1.x(), pt1.y()\n",
    "    x2, y2 = pt2.x(), pt2.y()\n",
    "        \n",
    "    distance = math.sqrt( (x2 - x1)**2 + (y2 - y1)**2 )\n",
    "    distance = round(distance / 1000, 2) # wynik w km\n",
    "    return distance\n",
    "\n",
    "euclidean_distance(pt1_3857, pt2_3857)"
   ]
  },
  {
   "cell_type": "markdown",
   "id": "5ac40e65",
   "metadata": {},
   "source": [
    "### Sferyczna\n",
    "\n",
    "Drugie podejście opiera się na wykorzystaniu trygonometrii na sferze, która przybliża powierzchnię Ziemi. W tym przypadku pomijamy transformację układu współrzędnych. Jednakże, do obliczeń zamiast stopni należy wykorzystać radiany. Ten sposób oferuje błąd na poziomie 0,5%.\n",
    "\n",
    "Wzór jest następujący:\n",
    "\n",
    "$$\n",
    "\\Delta{x} = \\cos(\\phi_2)\\cos(\\lambda_2) - \\cos(\\phi_1)\\cos(\\lambda_1)\n",
    "$$\n",
    "\n",
    "$$\n",
    "\\Delta{y} = \\cos(\\phi_2)\\sin(\\lambda_2) - \\cos(\\phi_1)\\sin(\\lambda_1)\n",
    "$$\n",
    "\n",
    "$$\n",
    "\\Delta{z} = \\sin(\\phi_2) - \\sin(\\phi_1)\n",
    "$$\n",
    "\n",
    "$$\n",
    "d_\\textrm{t} = r \\sqrt{(\\Delta{x})^2 + (\\Delta{y})^2 + (\\Delta{z})^2}\n",
    "$$\n",
    "\n",
    "$$\n",
    "d = 2 r \\arcsin \\frac{d_\\textrm{t}}{2 r},\n",
    "$$\n",
    "\n",
    "gdzie $r$ to średni promień Ziemi równy 6 371 009 m.\n",
    "\n",
    "Średni promień Ziemi można wyliczyć z poniższego równania:\n",
    "\n",
    "$$\n",
    "r = \\frac{2a+b}{3},\n",
    "$$\n",
    "\n",
    "gdzie $a$ to promień równikowy wynoszący 6 378 137 m, a $b$ to promień biegunowy wynoszący 6 356 752 m."
   ]
  },
  {
   "cell_type": "code",
   "execution_count": 5,
   "id": "1f1f99f6",
   "metadata": {},
   "outputs": [],
   "source": [
    "# https://en.wikipedia.org/wiki/Geographical_distance#Spherical-surface_formulae\n",
    "\n",
    "def spherical_distance(pt1, pt2):\n",
    "    from math import sin, cos, asin, sqrt, pi\n",
    "    \n",
    "    r = 6371009 # średni promień Ziemi w metrach\n",
    "        \n",
    "    coords = [pt1.x(), pt1.y(), pt2.x(), pt2.y()]\n",
    "    # konwersja stopni na radiany\n",
    "    coords = [coord * pi / 180 for coord in coords]\n",
    "    x1, y1, x2, y2 = coords\n",
    "    \n",
    "    delta_x = cos(y2) * cos(x2) - cos(y1) * cos(x1)\n",
    "    delta_y = cos(y2) * sin(x2) - cos(y1) * sin(x1)\n",
    "    delta_z = sin(y2) - sin(y1)\n",
    "    d_t = r * sqrt( delta_x**2 + delta_y**2 + delta_z**2 )\n",
    "    distance = 2 * r * asin(d_t / (2 * r))\n",
    "    distance = round(distance / 1000, 2)\n",
    "    \n",
    "    return distance"
   ]
  },
  {
   "cell_type": "code",
   "execution_count": 6,
   "id": "691fff30",
   "metadata": {},
   "outputs": [
    {
     "name": "stdout",
     "output_type": "stream",
     "text": [
      "Odległość między Warszawą a Rzymem: 1315.51 km\n"
     ]
    }
   ],
   "source": [
    "distance = spherical_distance(pt1, pt2)\n",
    "print(\"Odległość między Warszawą a Rzymem:\", distance, \"km\")"
   ]
  },
  {
   "cell_type": "markdown",
   "id": "86d890b7",
   "metadata": {},
   "source": [
    "### Elipsoidalna\n",
    "\n",
    "Precyzyjniejszy wynik można uzyskać stosując obliczenia na elipsoidzie zamiast sfery (wzór Vincenty'ego). Służy do tego klasa [QgsDistanceArea](https://qgis.org/pyqgis/master/core/QgsDistanceArea.html) oraz metoda `measureLine()`. Należy również wybrać elipsoidę używając metody `setEllipsoid()`. Standardowo do pomiarów globalnych wykorzystuje się elipsoidę `WGS84`."
   ]
  },
  {
   "cell_type": "code",
   "execution_count": 7,
   "id": "3483cd82",
   "metadata": {},
   "outputs": [
    {
     "name": "stdout",
     "output_type": "stream",
     "text": [
      "Odległość między Warszawą a Rzymem: 1316.2 km\n"
     ]
    }
   ],
   "source": [
    "from qgis.core import QgsDistanceArea\n",
    "\n",
    "distance_area = QgsDistanceArea()\n",
    "distance_area.setEllipsoid(\"WGS84\")\n",
    "\n",
    "distance = distance_area.measureLine(pt1, pt2)\n",
    "distance = round(distance / 1000, 2) # wynik w km\n",
    "\n",
    "print(\"Odległość między Warszawą a Rzymem:\", distance, \"km\")"
   ]
  },
  {
   "cell_type": "markdown",
   "id": "15a68568",
   "metadata": {},
   "source": [
    "## Powierzchnia\n",
    "\n",
    "Sprawdźmy teraz jakie różnice zachodzą w przypadku pomiarów powierzchni w układzie planarnym (`EPSG:2180`) oraz na elipsoidzie. Jako dane wejściowe wykorzystajmy przybliżoną obwiednię Polski."
   ]
  },
  {
   "cell_type": "markdown",
   "id": "41bfc8b4",
   "metadata": {},
   "source": [
    "### Kartezjańska\n",
    "\n",
    "Procedura wygląda identycznie jak w przypadku obliczania odległości między punktami z tą różnicą, iż należy wykorzystać metodę `area()`."
   ]
  },
  {
   "cell_type": "code",
   "execution_count": 8,
   "id": "105f223c",
   "metadata": {},
   "outputs": [],
   "source": [
    "from qgis.core import QgsGeometry\n",
    "\n",
    "bbox = \"POLYGON((14 49, 14 54, 24 54, 24 49, 14 49))\"\n",
    "geom = QgsGeometry.fromWkt(bbox)\n",
    "\n",
    "crs_4326 = QgsCoordinateReferenceSystem(\"EPSG:4326\")\n",
    "crs_2180 = QgsCoordinateReferenceSystem(\"EPSG:2180\")\n",
    "transform_context = QgsCoordinateTransformContext()\n",
    "transform = QgsCoordinateTransform(crs_4326, crs_2180, transform_context)"
   ]
  },
  {
   "cell_type": "markdown",
   "id": "ca7d0fba",
   "metadata": {},
   "source": [
    "**Uwaga!** Transformacja geometrii jest dokonana bezpośrednio na obiekcie klasy `QgsGeometry`."
   ]
  },
  {
   "cell_type": "code",
   "execution_count": 9,
   "id": "16b33d0f",
   "metadata": {},
   "outputs": [
    {
     "name": "stdout",
     "output_type": "stream",
     "text": [
      "Polygon ((134461.7 137878.5, 172479.3 693299.8, 827520.7 693299.8, 865538.3 137878.5, 134461.7 137878.5))\n"
     ]
    }
   ],
   "source": [
    "geom.transform(transform) # EPSG:2180\n",
    "print(geom.asWkt(precision = 1))"
   ]
  },
  {
   "cell_type": "code",
   "execution_count": 10,
   "id": "21cbcf33",
   "metadata": {},
   "outputs": [
    {
     "name": "stdout",
     "output_type": "stream",
     "text": [
      "Powierzchnia poligonu wynosi: 384939.74 km^2\n"
     ]
    }
   ],
   "source": [
    "area = geom.area()\n",
    "area = round(area / 1000**2, 2) # wynik w km^2\n",
    "\n",
    "print(\"Powierzchnia poligonu wynosi:\", area, \"km^2\")"
   ]
  },
  {
   "cell_type": "markdown",
   "id": "12af797d",
   "metadata": {},
   "source": [
    "### Elipsoidalna\n",
    "\n",
    "Do obliczenia powierzchni elipsoidalnej należy użyć metody `measureArea()`, tak jak zademonstrowano to w poprzedniej sekcji na przykładzie odległości elipsoidalnej."
   ]
  },
  {
   "cell_type": "code",
   "execution_count": 11,
   "id": "7c2bc044",
   "metadata": {},
   "outputs": [
    {
     "name": "stdout",
     "output_type": "stream",
     "text": [
      "Powierzchnia poligonu wynosi: 385343.21 km^2\n"
     ]
    }
   ],
   "source": [
    "geom = QgsGeometry.fromWkt(bbox) # EPSG:4326\n",
    "\n",
    "distance_area = QgsDistanceArea()\n",
    "distance_area.setEllipsoid(\"WGS84\")\n",
    "\n",
    "area = distance_area.measureArea(geom)\n",
    "area = round(area / 1000**2, 2)\n",
    "\n",
    "print(\"Powierzchnia poligonu wynosi:\", area, \"km^2\")"
   ]
  },
  {
   "cell_type": "markdown",
   "id": "5fb9c42a",
   "metadata": {},
   "source": [
    "# Zadania:\n",
    "\n",
    "14) Zaimplementuj funkcję `decimal_to_dms()` umożliwiającą konwersję stopni dziesiętnych na wartość DMS. W funkcji uwzględnij argument logiczny `is_lat`, który pozwoli określić czy współrzędna wejściowa reprezentuje szerokość czy długość geograficzną i zwróci wynik z odpowiednim kierunkiem geograficznym.\n",
    "15) Zaimplementuj [wzór haversine [9]](https://en.wikipedia.org/wiki/Haversine_formula#Formulation) jako funkcję i porównaj z innymi otrzymanymi wynikami na przykładzie odległości pomiędzy Warszawą a Rzymem. Współrzędne geograficzne wyrażone w stopniach muszą zostać zamienione na radiany.\n",
    "16) Zaimplementuj funkcję `surface_distance()`, która obliczy odległość powierzchniową między punktami w przestrzeni trójwymiarowej. W tym celu wykorzystaj współrzędne zapisane w pliku `profil.csv` w układzie `EPSG:2180`. Do wczytania pliku `csv` można wykorzystać moduł [csv](https://docs.python.org/3/library/csv.html) lub klasę [QgsVectorLayer](https://qgis.org/pyqgis/master/core/QgsVectorLayer.html#delimited-text-file-data-provider-delimitedtext) w QGIS."
   ]
  }
 ],
 "metadata": {
  "kernelspec": {
   "display_name": "Python 3 (ipykernel)",
   "language": "python",
   "name": "python3"
  },
  "language_info": {
   "codemirror_mode": {
    "name": "ipython",
    "version": 3
   },
   "file_extension": ".py",
   "mimetype": "text/x-python",
   "name": "python",
   "nbconvert_exporter": "python",
   "pygments_lexer": "ipython3",
   "version": "3.12.7"
  },
  "subtitle": "Obliczenia geodezyjne",
  "title": "Algorytmy danych geoprzestrzennych"
 },
 "nbformat": 4,
 "nbformat_minor": 5
}
