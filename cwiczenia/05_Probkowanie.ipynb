{
 "cells": [
  {
   "cell_type": "markdown",
   "id": "338ad554",
   "metadata": {},
   "source": [
    "<font size=\"5\">**Algorytmy danych geoprzestrzennych**</font><br>\n",
    "<font size=\"4\">Próbkowanie</font>\n",
    "\n",
    "<font size=\"4\">Krzysztof Dyba</font>"
   ]
  },
  {
   "cell_type": "markdown",
   "id": "33a251f7",
   "metadata": {},
   "source": [
    "# Próbkowanie\n",
    "\n",
    "Próbkowanie (*sampling*) to proces wybierania (selekcji) podzbioru lokalizacji danych przestrzennych z większego obszaru geograficznego w celu analizy cech całego obszaru. Stworzona reprezentatywna próba danych, może zostać wykorzystana do wyciągnięcia wniosków na temat populacji, przy jednoczesnym zminimalizowaniu czasu, kosztów i wysiłku wymaganego do zebrania i przetworzenia tych danych.\n",
    "\n",
    "**Rodzaje próbkowania:**\n",
    "\n",
    "- losowe -- lokalizacje wybierane są całkowicie przypadkowo\n",
    "- stratyfikowane (łac. *stratum* -- warstwa) -- obszar dzielony jest na podgrupy (*stratum*) na podstawie pewnych cech (np. użytkowanie terenu, wysokość). Następnie pobierane są losowe próbki w obrębie każdego *stratum*, co zapewnia zbalansowaną reprezentację różnych podgrup\n",
    "- regularne / systematyczne -- próbki wybierane są w określonych i równomiernych odstępach, np. co 100 m.\n",
    "- celowe -- próbki wybierane są na podstawie wiedzy badacza i określonych kryteriów"
   ]
  },
  {
   "cell_type": "markdown",
   "id": "448006e7",
   "metadata": {},
   "source": [
    "## Próbkowanie losowe\n",
    "\n",
    "Istnieje wiele sposobów losowego doboru próbek używając różnych rozkładów prawdopodobieństwa (np. jednostajnego, normalnego, dwumianowego czy Poissona) w zależności od charakterystyki danych i konkretnych wymagań analizy. W przypadku danych przestrzennych wykorzystywane są specjalistyczne rozkłady przestrzenne, które są bardziej złożone od tradycyjnych ze względu na uwzględnienie relacji przestrzennych (patrz pakiet [spatstat.random](https://cran.r-project.org/web/packages/spatstat.random/index.html) w R).\n",
    "\n",
    "W najprostszym przypadku należy wykorzystać losowanie ze zwracaniem, gdzie jako obiekt wejściowy definiujemy listę, która reprezentuje minimalny oraz maksymalny zasięg przestrzenny danej osi, np. `x_coords = list(range(xMinimum, xMaximum + 1))`. Z racji, iż dane rastrowe są reprezentacją dyskretną obszarów badań, trzeba zdefiniować interwał próbkowania, np. co 10 m, aby uniknąć sytuacji, w której próbki pochodzą z identycznej lokalizacji (komórki). Zakres przestrzenny możemy zdefiniować na dwa sposoby -- dla całego rastra lub dla określonego obszaru. Jeśli korzystamy z QGIS, to dodatkowo możemy, pobrać aktualnie wyświetlany zasięg warstwy w aplikacji.\n",
    "\n",
    "Uwaga! Generowanie liczb losowych jest procesem losowym, to znaczy że za każdym razem, gdy kod zostanie wykonany, to otrzymamy inną sekwencję liczb. Aby uzyskać tę samą sekwencję liczb, należy ustawić ziarno losowości (`random.seed()`) najlepiej na początku skryptu, dzięki czemu wyniki będą powtarzalne."
   ]
  },
  {
   "cell_type": "code",
   "execution_count": 1,
   "id": "6f359d96",
   "metadata": {},
   "outputs": [
    {
     "name": "stdout",
     "output_type": "stream",
     "text": [
      "[80, 0, 90, 60, 50]\n"
     ]
    }
   ],
   "source": [
    "import random\n",
    "random.seed(999) # ziarno losowości\n",
    "\n",
    "x_coords = list(range(0, 100 + 1, 10))\n",
    "# losowanie ze zwracaniem\n",
    "x_coords = random.choices(x_coords, k = 5)\n",
    "print(x_coords)"
   ]
  },
  {
   "cell_type": "markdown",
   "id": "61b14027",
   "metadata": {},
   "source": [
    "Do stworzenia punktu wymagana jest para współrzędnych X (długość geograficzna) i Y (szerokość geograficzna) oraz klasa `QgsPointXY`. Wygenerowane punkty możemy przechowywać w liście (co jest prostszym rozwiązaniem) lub stworzyć nową warstwę wektorową (patrz temat \"*Przetwarzanie danych wektorowych: Tworzenie nowej warstwy*\")."
   ]
  },
  {
   "cell_type": "code",
   "execution_count": 2,
   "id": "12051ed6",
   "metadata": {},
   "outputs": [
    {
     "name": "stdout",
     "output_type": "stream",
     "text": [
      "[<QgsPointXY: POINT(10 10)>, <QgsPointXY: POINT(80 100)>, <QgsPointXY: POINT(30 20)>, <QgsPointXY: POINT(80 20)>, <QgsPointXY: POINT(90 60)>]\n"
     ]
    }
   ],
   "source": [
    "from qgis.core import QgsPointXY\n",
    "\n",
    "x_coords = list(range(0, 100 + 1, 10))\n",
    "x_coords = random.choices(x_coords, k = 5)\n",
    "y_coords = list(range(0, 100 + 1, 10))\n",
    "y_coords = random.choices(y_coords, k = 5)\n",
    "\n",
    "points = []\n",
    "for x, y in zip(x_coords, y_coords):\n",
    "    points.append(QgsPointXY(x, y))\n",
    "\n",
    "print(points)"
   ]
  },
  {
   "cell_type": "markdown",
   "id": "d24467de",
   "metadata": {},
   "source": [
    "## Próbkowanie stratyfikowane"
   ]
  },
  {
   "cell_type": "markdown",
   "id": "87157c13",
   "metadata": {},
   "source": [
    "Procedura wygenerowania losowego punkty w poligonie składa się z dwóch etapów:\n",
    "1. Wylosowanie punktu, który znajduje się z zakresie (*bounding box*) poligonu.\n",
    "2. Sprawdzenie czy wylosowany punkt znajduje się w poligonie (lub czy poligon zawiera ten punkt)."
   ]
  },
  {
   "cell_type": "code",
   "execution_count": 3,
   "id": "468ff55f",
   "metadata": {},
   "outputs": [
    {
     "name": "stdout",
     "output_type": "stream",
     "text": [
      "<QgsRectangle: 0 0, 20 10>\n"
     ]
    }
   ],
   "source": [
    "from qgis.core import QgsGeometry\n",
    "\n",
    "# przykładowe dane\n",
    "wkt = \"POLYGON((0 0, 20 0, 5 10, 0 0))\"\n",
    "polygon = QgsGeometry.fromWkt(wkt)\n",
    "bbox = polygon.boundingBox()\n",
    "print(bbox) # xmin, ymin, xmax, ymax"
   ]
  },
  {
   "cell_type": "code",
   "execution_count": 4,
   "id": "0a0e1277",
   "metadata": {},
   "outputs": [
    {
     "name": "stdout",
     "output_type": "stream",
     "text": [
      "<QgsPointXY: POINT(14.04204171589216621 2.53705020234383216)>\n"
     ]
    }
   ],
   "source": [
    "# (1) losowanie punktu z zakresu\n",
    "x = random.uniform(bbox.xMinimum(), bbox.xMaximum())\n",
    "y = random.uniform(bbox.yMinimum(), bbox.yMaximum())\n",
    "pt = QgsPointXY(x, y)\n",
    "print(pt)"
   ]
  },
  {
   "cell_type": "code",
   "execution_count": 5,
   "id": "56207c24",
   "metadata": {},
   "outputs": [
    {
     "name": "stdout",
     "output_type": "stream",
     "text": [
      "True\n"
     ]
    }
   ],
   "source": [
    "# (2) sprawdzenie czy poligon zawiera punkt\n",
    "print(polygon.contains(pt))"
   ]
  },
  {
   "cell_type": "markdown",
   "id": "0d484fa6",
   "metadata": {},
   "source": [
    "Naturalnie, jeśli chcemy wygenerować punkty dla obiektów, to musimy zastosować pętlę. W przypadku \"dziwnych\" geometrii, które trudno opróbkować, należy pamiętać żeby pętla była skończona."
   ]
  },
  {
   "cell_type": "markdown",
   "id": "a6bc80f8",
   "metadata": {},
   "source": [
    "## Próbkowanie regularne"
   ]
  },
  {
   "cell_type": "code",
   "execution_count": 6,
   "id": "7f3dffee",
   "metadata": {},
   "outputs": [
    {
     "name": "stdout",
     "output_type": "stream",
     "text": [
      "<QgsGeometry: LineString (10 20, 50 70)>\n",
      "Długość linii: 64.03124237432849\n"
     ]
    }
   ],
   "source": [
    "from qgis.core import QgsLineString\n",
    "\n",
    "pt1 = QgsPointXY(10, 20)\n",
    "pt2 = QgsPointXY(50, 70)\n",
    "line = QgsGeometry(QgsLineString([pt1, pt2])) # QgsGeometry.fromPolylineXY()\n",
    "print(line)\n",
    "\n",
    "line_length = line.length()\n",
    "print(\"Długość linii:\", line_length)"
   ]
  },
  {
   "cell_type": "code",
   "execution_count": 7,
   "id": "93a139f8",
   "metadata": {},
   "outputs": [
    {
     "name": "stdout",
     "output_type": "stream",
     "text": [
      "Liczba punktów: 7\n"
     ]
    }
   ],
   "source": [
    "interval = 10\n",
    "points = []\n",
    "distance = 0\n",
    "while distance <= line_length:\n",
    "    point = line.interpolate(distance)\n",
    "    points.append(point.asPoint())\n",
    "    distance = distance + interval\n",
    "print(\"Liczba punktów:\", len(points))"
   ]
  },
  {
   "cell_type": "markdown",
   "id": "8fec6dec",
   "metadata": {},
   "source": [
    "W przypadku próbkowania wzdłuż linii istotne jest sprawdzenie kierunku przebiegu linii, np. czy jest to kierunek wschód-zachód czy na odwrót. Jeśli błędnie przyjmiemy kierunek, to wartości na krzywej będą odwrócone. Do weryfikacji można napisać prostą funkcję, która porówna współrzędne punktu początkowego i końcowego linii."
   ]
  },
  {
   "cell_type": "code",
   "execution_count": 8,
   "id": "dd811676",
   "metadata": {},
   "outputs": [
    {
     "name": "stdout",
     "output_type": "stream",
     "text": [
      "Kierunek linii: ('ZACH-WSCH', 'PŁD-PŁN')\n"
     ]
    }
   ],
   "source": [
    "def line_direction(line):\n",
    "    # pobierz wierzchołki\n",
    "    vertices = line.asPolyline()\n",
    "    \n",
    "    # wybierz pierwszy i ostatni wierzchołek\n",
    "    start_point = vertices[0]\n",
    "    end_point = vertices[-1]\n",
    "    \n",
    "    # sprawdzenie osi X\n",
    "    if start_point.x() < end_point.x():\n",
    "        x_direction = \"ZACH-WSCH\"\n",
    "    elif start_point.x() > end_point.x():\n",
    "        x_direction = \"WSCH-ZACH\"\n",
    "    else:\n",
    "        x_direction = \"\" # kierunek stały\n",
    "        \n",
    "    # sprawdzenie osi Y\n",
    "    if start_point.y() < end_point.y():\n",
    "        y_direction = \"PŁD-PŁN\"\n",
    "    elif start_point.y() > end_point.y():\n",
    "        y_direction = \"PŁN-PŁD\"\n",
    "    else:\n",
    "        y_direction = \"\"\n",
    "        \n",
    "    return x_direction, y_direction\n",
    "\n",
    "print(\"Kierunek linii:\", line_direction(line))"
   ]
  },
  {
   "cell_type": "markdown",
   "id": "81a7b234",
   "metadata": {},
   "source": [
    "# Zadania:\n",
    "\n",
    "11) **Analiza geomorfometryczna.** Dokonaj analizy ukształtowania terenu (plik `DEM.tif`) używając dwóch transektów północ-południe oraz wschód-zachód. Wynik zaprezentuj na rycinie (na osi X powinna znajdować się odległość wyrażona w metrach). Zastanów się również, co zrobić w przypadku, gdy komórki nie posiadają wartości (*nan*).\n",
    "\n",
    "12) **Analiza teledetekcyjna.** Wygeneruj losową próbę i następnie dla dwóch wybranych kanałów spektralnych z Landsat 8/9:\n",
    "- wykonaj wykres rozrzutu uwzględniając przezroczystość punktów oraz zaznacz linię `x = y`,\n",
    "- oblicz statystyki opisowe z wartości różnic między tymi kanałami.\n",
    "\n",
    "  Dodatkowo można obliczyć współczynnik korelacji Pearsona (`numpy.corrcoef()`).\n",
    "  \n",
    "13) **Analiza geoinformacyjna.** Zaimplementuj funkcję losowania stratyfikowanego `sample_strata(wektor, n)`, która zagwarantuje, że dla każdego poligonu zostanie zwrócona dokładna liczba punktów wskazana przez użytkownika, a wynik zostanie zapisany jako warstwa wektorowa. Do analizy wykorzystaj dane z pliku `powiaty.gpkg`."
   ]
  }
 ],
 "metadata": {
  "kernelspec": {
   "display_name": "Python 3 (ipykernel)",
   "language": "python",
   "name": "python3"
  },
  "language_info": {
   "codemirror_mode": {
    "name": "ipython",
    "version": 3
   },
   "file_extension": ".py",
   "mimetype": "text/x-python",
   "name": "python",
   "nbconvert_exporter": "python",
   "pygments_lexer": "ipython3",
   "version": "3.12.7"
  },
  "subtitle": "Próbkowanie",
  "title": "Algorytmy danych geoprzestrzennych"
 },
 "nbformat": 4,
 "nbformat_minor": 5
}
