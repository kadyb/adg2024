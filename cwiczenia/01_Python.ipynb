{
 "cells": [
  {
   "cell_type": "markdown",
   "id": "c7b4c6f4",
   "metadata": {
    "slideshow": {
     "slide_type": ""
    },
    "tags": []
   },
   "source": [
    "<font size=\"5\">**Algorytmy danych geoprzestrzennych**</font><br>\n",
    "<font size=\"4\">Wprowadzenie do Pythona</font>\n",
    "\n",
    "<font size=\"4\">Krzysztof Dyba</font>"
   ]
  },
  {
   "cell_type": "markdown",
   "id": "7f61c4de",
   "metadata": {},
   "source": [
    "Python to interpretowany język programowania wysokiego poziomu, powszechnie stosowany w różnych zastosowaniach takich jak tworzenie stron internetowych, analiza danych i uczenie maszynowe, pisanie skryptów i automatyzacja procesów czy zarządzanie systemami (*DevOps*). Jest także używany w systemach informacji geograficznej do przetwarzania i analizowania danych przestrzennych. Jest aktualnie najpopularniejszym językiem programowania."
   ]
  },
  {
   "cell_type": "markdown",
   "id": "206deaff",
   "metadata": {},
   "source": [
    "Cechy języka Python:\n",
    "- darmowy i otwarty,\n",
    "- język interpretowany (kod wykonywany jest linia po linii, bez potrzeby kompilacji),\n",
    "- język wysokiego poziomu (pominięcie aspektów związanych z zarządzaniem pamięcią),\n",
    "- dynamiczne typowanie (zmienne nie wymagają jawnych deklaracji przed użyciem),\n",
    "- wsparcie dwóch paradygmatów programowania, tj. obiektowego i funkcjonalnego,\n",
    "- duży ekosystem (biblioteki, wsparcie, tutoriale),\n",
    "- indeksowanie od 0."
   ]
  },
  {
   "cell_type": "markdown",
   "id": "86ad0fec",
   "metadata": {},
   "source": [
    "# Przegląd funkcjonalności\n",
    "\n",
    "W tej sekcji znajdziesz błyskawiczny przegląd funkcjonalności Pythona. Pełna wersja tutorialu w języku angielskim dostępna jest [tutaj](https://docs.python.org/3/tutorial/)."
   ]
  },
  {
   "cell_type": "markdown",
   "id": "ae0a61fe",
   "metadata": {},
   "source": [
    "## Zmienne\n",
    "\n",
    "Do przypisania wartości do zmiennej stosuje się znak równości `=`."
   ]
  },
  {
   "cell_type": "code",
   "execution_count": 1,
   "id": "c0605434",
   "metadata": {},
   "outputs": [],
   "source": [
    "x = 5          # liczba\n",
    "y = \"parasol\"  # tekst"
   ]
  },
  {
   "cell_type": "markdown",
   "id": "af601009",
   "metadata": {
    "slideshow": {
     "slide_type": ""
    },
    "tags": []
   },
   "source": [
    "Utworzone zmienne można wyświetlić używając funkcji `print()`."
   ]
  },
  {
   "cell_type": "code",
   "execution_count": 2,
   "id": "3f61d50d",
   "metadata": {},
   "outputs": [
    {
     "name": "stdout",
     "output_type": "stream",
     "text": [
      "5\n",
      "parasol\n"
     ]
    }
   ],
   "source": [
    "print(x)\n",
    "print(y)"
   ]
  },
  {
   "cell_type": "markdown",
   "id": "aadaf397",
   "metadata": {},
   "source": [
    "## Typy danych\n",
    "\n",
    "Domyślnie wspierane są następujące typy danych:\n",
    "\n",
    "- liczba całkowita **int** (np. -10, 0, 10),\n",
    "- liczba zmiennoprzecinkowa **float** (np. 0.01, 21.37),\n",
    "- łańcuchy tekstu **str** (np. \"Ala ma kota.\", 'rower'),\n",
    "- wartości logiczne **bool** (True, False).\n",
    "\n",
    "Do sprawdzenia typu danych służy funkcja `type()`."
   ]
  },
  {
   "cell_type": "code",
   "execution_count": 3,
   "id": "f20a0290",
   "metadata": {},
   "outputs": [
    {
     "data": {
      "text/plain": [
       "int"
      ]
     },
     "execution_count": 3,
     "metadata": {},
     "output_type": "execute_result"
    }
   ],
   "source": [
    "type(10)"
   ]
  },
  {
   "cell_type": "code",
   "execution_count": 4,
   "id": "f04d9542",
   "metadata": {},
   "outputs": [
    {
     "data": {
      "text/plain": [
       "float"
      ]
     },
     "execution_count": 4,
     "metadata": {},
     "output_type": "execute_result"
    }
   ],
   "source": [
    "type(0.01)"
   ]
  },
  {
   "cell_type": "code",
   "execution_count": 5,
   "id": "32f49015",
   "metadata": {},
   "outputs": [
    {
     "data": {
      "text/plain": [
       "str"
      ]
     },
     "execution_count": 5,
     "metadata": {},
     "output_type": "execute_result"
    }
   ],
   "source": [
    "type(\"Ala ma kota.\")"
   ]
  },
  {
   "cell_type": "code",
   "execution_count": 6,
   "id": "f4df4edd",
   "metadata": {},
   "outputs": [
    {
     "data": {
      "text/plain": [
       "bool"
      ]
     },
     "execution_count": 6,
     "metadata": {},
     "output_type": "execute_result"
    }
   ],
   "source": [
    "type(False)"
   ]
  },
  {
   "cell_type": "markdown",
   "id": "de2c2857",
   "metadata": {},
   "source": [
    "Możemy również dokonać konwersji między typami:\n",
    "- z liczby zmiennoprzecinkowej na całkowitą (część dziesiętna zostaje usunięta!),\n",
    "- z liczby całkowitej na zmiennoprzecinkową,\n",
    "- z liczby na tekst i na odwrót."
   ]
  },
  {
   "cell_type": "code",
   "execution_count": 7,
   "id": "95625fb0",
   "metadata": {},
   "outputs": [
    {
     "name": "stdout",
     "output_type": "stream",
     "text": [
      "3\n",
      "3\n"
     ]
    }
   ],
   "source": [
    "# konwersja liczby zmiennoprzecinkowej na całkowitą\n",
    "print(int(3.14))\n",
    "print(int(3.99))"
   ]
  },
  {
   "cell_type": "code",
   "execution_count": 8,
   "id": "31a395a6",
   "metadata": {},
   "outputs": [
    {
     "data": {
      "text/plain": [
       "'10'"
      ]
     },
     "execution_count": 8,
     "metadata": {},
     "output_type": "execute_result"
    }
   ],
   "source": [
    "# konwersja tekstu na liczbę\n",
    "str(10)"
   ]
  },
  {
   "cell_type": "markdown",
   "id": "2c5ba9ef",
   "metadata": {},
   "source": [
    "## Struktury danych\n",
    "\n",
    "Do podstawowych struktur danych należą:\n",
    "\n",
    "- lista,\n",
    "- słownik."
   ]
  },
  {
   "cell_type": "markdown",
   "id": "a43d931f",
   "metadata": {},
   "source": [
    "### Lista\n",
    "\n",
    "Lista jest uporządkowanym, modyfikowalnym i dynamicznym zbiorem elementów, które mogą być dowolnego typu danych. Definiuje się ją poprzez umieszczenie elementów między nawiasami kwadratowymi `[]`, które oddzielone są przecinkami. Listy można również zagnieżdżać."
   ]
  },
  {
   "cell_type": "code",
   "execution_count": 9,
   "id": "a274ba7e",
   "metadata": {},
   "outputs": [
    {
     "name": "stdout",
     "output_type": "stream",
     "text": [
      "[35, 'rower', 53.61, 'plecak', True]\n"
     ]
    }
   ],
   "source": [
    "# stworzenie listy\n",
    "ls = [35, \"rower\", 53.61, \"plecak\", True]\n",
    "print(ls)"
   ]
  },
  {
   "cell_type": "markdown",
   "id": "695eb0a4",
   "metadata": {},
   "source": [
    "Funkcja `len()` zwraca liczbę elementów w liście."
   ]
  },
  {
   "cell_type": "code",
   "execution_count": 10,
   "id": "c359d41f",
   "metadata": {},
   "outputs": [
    {
     "data": {
      "text/plain": [
       "5"
      ]
     },
     "execution_count": 10,
     "metadata": {},
     "output_type": "execute_result"
    }
   ],
   "source": [
    "len(ls)"
   ]
  },
  {
   "cell_type": "markdown",
   "id": "44e04a81",
   "metadata": {},
   "source": [
    "Dostęp do poszczególnych elementów listy możemy uzyskać za pomocą ich indeksu."
   ]
  },
  {
   "cell_type": "code",
   "execution_count": 11,
   "id": "af077b35",
   "metadata": {},
   "outputs": [
    {
     "name": "stdout",
     "output_type": "stream",
     "text": [
      "35\n",
      "rower\n",
      "True\n",
      "plecak\n"
     ]
    }
   ],
   "source": [
    "# dostęp do elementów listy\n",
    "print(ls[0]) # pierwszy element\n",
    "print(ls[1]) # drugi element\n",
    "\n",
    "print(ls[-1]) # pierwszy element od końca\n",
    "print(ls[-2]) # drugi element od końca"
   ]
  },
  {
   "cell_type": "code",
   "execution_count": 12,
   "id": "da498594",
   "metadata": {},
   "outputs": [
    {
     "name": "stdout",
     "output_type": "stream",
     "text": [
      "[53.61, 'plecak']\n",
      "[35, 'rower', 53.61]\n",
      "['plecak', True]\n"
     ]
    }
   ],
   "source": [
    "# zakresy indeksów\n",
    "# ls[początek:koniec]\n",
    "print(ls[2:4]) # od trzeciego do czwartego obiektu\n",
    "print(ls[:3]) # od początku do trzeciego obiektu\n",
    "print(ls[3:]) # od czwartego obiektu do końca"
   ]
  },
  {
   "cell_type": "markdown",
   "id": "9912bf22",
   "metadata": {},
   "source": [
    "Używając indeksów można zastąpić poszczególne elementy listy."
   ]
  },
  {
   "cell_type": "code",
   "execution_count": 13,
   "id": "e5239bb3",
   "metadata": {},
   "outputs": [
    {
     "name": "stdout",
     "output_type": "stream",
     "text": [
      "[35, 'rower', 53.61, 'plecak', False]\n"
     ]
    }
   ],
   "source": [
    "ls[4] = False\n",
    "print(ls)"
   ]
  },
  {
   "cell_type": "markdown",
   "id": "0acd5402",
   "metadata": {},
   "source": [
    "Możemy również modyfikować zawartość listy za pomocą różnych metod:\n",
    "- `append()` -- dodaje element na końcu listy,\n",
    "- `insert(indeks, element)` -- dodaje element w określonym miejscu,\n",
    "- `remove()` -- usuwa element według wartości,\n",
    "- `reverse()` -- odwraca kolejność elementów listy."
   ]
  },
  {
   "cell_type": "code",
   "execution_count": 14,
   "id": "28692a5f",
   "metadata": {},
   "outputs": [
    {
     "name": "stdout",
     "output_type": "stream",
     "text": [
      "[35, 'rower', 53.61, 'plecak', False, 999]\n"
     ]
    }
   ],
   "source": [
    "ls.append(999)\n",
    "print(ls)"
   ]
  },
  {
   "cell_type": "code",
   "execution_count": 15,
   "id": "fd5fd5e0",
   "metadata": {},
   "outputs": [
    {
     "name": "stdout",
     "output_type": "stream",
     "text": [
      "[35, 'rower', 53.61, 'plecak', False, 999, 'nowy']\n"
     ]
    }
   ],
   "source": [
    "ls.insert(6, \"nowy\")\n",
    "print(ls)"
   ]
  },
  {
   "cell_type": "code",
   "execution_count": 16,
   "id": "293137ba",
   "metadata": {},
   "outputs": [
    {
     "name": "stdout",
     "output_type": "stream",
     "text": [
      "[35, 53.61, 'plecak', False, 999, 'nowy']\n"
     ]
    }
   ],
   "source": [
    "ls.remove(\"rower\")\n",
    "print(ls)"
   ]
  },
  {
   "cell_type": "code",
   "execution_count": 17,
   "id": "9696b6c0",
   "metadata": {},
   "outputs": [
    {
     "name": "stdout",
     "output_type": "stream",
     "text": [
      "['nowy', 999, False, 'plecak', 53.61, 35]\n"
     ]
    }
   ],
   "source": [
    "ls.reverse()\n",
    "print(ls)"
   ]
  },
  {
   "cell_type": "markdown",
   "id": "2b272a41",
   "metadata": {},
   "source": [
    "Nie są to jednak wszystkie dostępne metody. Aby odkryć pozostałe, wykonaj Zadanie 4."
   ]
  },
  {
   "cell_type": "markdown",
   "id": "67427a1f",
   "metadata": {},
   "source": [
    "### Słownik"
   ]
  },
  {
   "cell_type": "markdown",
   "id": "c66dd873",
   "metadata": {},
   "source": [
    "Słownik jest strukturą danych używaną do przechowywania zbiorów danych w formacie pary klucz-wartość. W przeciwieństwie list, które są indeksowane liczbami całkowitymi, słowniki są indeksowane za pomocą unikalnych, niemodyfikowalnych kluczy. Każdy klucz jest unikatowy w słowniku i pełni funkcję identyfikatora umożliwiającego dostęp do powiązanej z nim wartości."
   ]
  },
  {
   "cell_type": "markdown",
   "id": "7b6675f9",
   "metadata": {},
   "source": [
    "Słowniki są definiowane za pomocą nawiasów klamrowych `{}`, pary klucz-wartość są określane za pomocą dwukropka `:`, a kolejne pary są rozdzielone przecinkami `,` w następujący sposób:\n",
    "\n",
    "`slownik = {klucz_1: wartosc_1, klucz_2: wartosc_2, ...}`"
   ]
  },
  {
   "cell_type": "code",
   "execution_count": 18,
   "id": "2f2b9aa4",
   "metadata": {},
   "outputs": [],
   "source": [
    "# stworzenie słownika\n",
    "osoby = {\n",
    "    \"imie\": \"Ania\",\n",
    "    \"wiek\": 21,\n",
    "    \"miasto\": \"Poznań\"\n",
    "}"
   ]
  },
  {
   "cell_type": "markdown",
   "id": "b5c5de60",
   "metadata": {},
   "source": [
    "Dostęp do wartości powiązanej z kluczem możemy uzyskać za pomocą nawiasów kwadratowych `[]` i klucza:"
   ]
  },
  {
   "cell_type": "code",
   "execution_count": 19,
   "id": "537e0858",
   "metadata": {},
   "outputs": [
    {
     "name": "stdout",
     "output_type": "stream",
     "text": [
      "Ania\n"
     ]
    }
   ],
   "source": [
    "print(osoby[\"imie\"])"
   ]
  },
  {
   "cell_type": "markdown",
   "id": "cac9623f",
   "metadata": {},
   "source": [
    "Dostępne są również metody `keys()` oraz `values()`, które zwracają wszystkie klucze oraz wartości."
   ]
  },
  {
   "cell_type": "code",
   "execution_count": 20,
   "id": "983b95b9",
   "metadata": {},
   "outputs": [
    {
     "name": "stdout",
     "output_type": "stream",
     "text": [
      "dict_keys(['imie', 'wiek', 'miasto'])\n",
      "dict_values(['Ania', 21, 'Poznań'])\n"
     ]
    }
   ],
   "source": [
    "print(osoby.keys())\n",
    "print(osoby.values())"
   ]
  },
  {
   "cell_type": "markdown",
   "id": "9a7f6d1a",
   "metadata": {},
   "source": [
    "Słowniki są modyfikowalne, co oznacza, że można dodawać, modyfikować lub usuwać pary klucz-wartość po utworzeniu słownika."
   ]
  },
  {
   "cell_type": "code",
   "execution_count": 21,
   "id": "59958f83",
   "metadata": {},
   "outputs": [
    {
     "name": "stdout",
     "output_type": "stream",
     "text": [
      "{'imie': 'Ania', 'wiek': 41, 'wzrost': 165}\n"
     ]
    }
   ],
   "source": [
    "# dodanie nowej pary klucz-wartość\n",
    "osoby[\"wzrost\"] = 165\n",
    "\n",
    "# modyfikacja wartości\n",
    "osoby[\"wiek\"] = 41\n",
    "\n",
    "# usunięcie pary klucz-wartość\n",
    "del osoby[\"miasto\"]\n",
    "\n",
    "print(osoby)"
   ]
  },
  {
   "cell_type": "markdown",
   "id": "216ade26",
   "metadata": {},
   "source": [
    "## Operatory"
   ]
  },
  {
   "cell_type": "markdown",
   "id": "04e01eb1",
   "metadata": {},
   "source": [
    "Python obsługuje różne operatory do wykonywania operacji arytmetycznych, porównawczych, logicznych, przypisania i innych."
   ]
  },
  {
   "cell_type": "markdown",
   "id": "521ba17b",
   "metadata": {},
   "source": [
    "### Arytmetyczne:\n",
    "\n",
    "- Dodawanie `+`,\n",
    "- Odejmowanie `-`,\n",
    "- Mnożenie `*`,\n",
    "- Dzielenie `/`,\n",
    "- Modulo `%` (reszta z dzielenia),\n",
    "- Potęgowanie `**`."
   ]
  },
  {
   "cell_type": "code",
   "execution_count": 22,
   "id": "1dd86f7b",
   "metadata": {},
   "outputs": [
    {
     "name": "stdout",
     "output_type": "stream",
     "text": [
      "13\n",
      "7\n",
      "30\n",
      "3.3333333333333335\n",
      "1\n",
      "1000\n"
     ]
    }
   ],
   "source": [
    "a = 10\n",
    "b = 3\n",
    "\n",
    "print(a + b)\n",
    "print(a - b)\n",
    "print(a * b)\n",
    "print(a / b)\n",
    "print(a % b)\n",
    "print(a ** b)"
   ]
  },
  {
   "cell_type": "markdown",
   "id": "fac1d62f",
   "metadata": {},
   "source": [
    "### Porównawcze\n",
    "\n",
    "- Operator równości `==`,\n",
    "- Operator negacji równości `!=`,\n",
    "- Operatory nierówności `>`, `>=`, `<`, `<=`."
   ]
  },
  {
   "cell_type": "code",
   "execution_count": 23,
   "id": "40ec5cda",
   "metadata": {},
   "outputs": [
    {
     "name": "stdout",
     "output_type": "stream",
     "text": [
      "False\n",
      "True\n",
      "False\n",
      "True\n"
     ]
    }
   ],
   "source": [
    "a = 10\n",
    "b = 3\n",
    "\n",
    "print(a == b)\n",
    "print(a != b)\n",
    "print(a < b)\n",
    "print(a > b)"
   ]
  },
  {
   "cell_type": "markdown",
   "id": "f36997e7",
   "metadata": {},
   "source": [
    "### Logiczne\n",
    "\n",
    "- Koniunkcja `and` (`True`, jeśli obie wartości są prawdziwe),\n",
    "- Alternatywa `or` (`True`, jeśli przynajmniej jedna wartość jest prawdziwa),\n",
    "- Negacja `not` (odwraca wartość logiczną)."
   ]
  },
  {
   "cell_type": "code",
   "execution_count": 24,
   "id": "5e44e123",
   "metadata": {},
   "outputs": [
    {
     "name": "stdout",
     "output_type": "stream",
     "text": [
      "True\n"
     ]
    }
   ],
   "source": [
    "a = 10\n",
    "print(a > 0 and a < 100)"
   ]
  },
  {
   "cell_type": "code",
   "execution_count": 25,
   "id": "cf03e41d",
   "metadata": {},
   "outputs": [
    {
     "name": "stdout",
     "output_type": "stream",
     "text": [
      "False\n",
      "True\n"
     ]
    }
   ],
   "source": [
    "print(True and False)\n",
    "print(True or False)"
   ]
  },
  {
   "cell_type": "markdown",
   "id": "c3e59aec",
   "metadata": {},
   "source": [
    "## Instrukcje warunkowe"
   ]
  },
  {
   "cell_type": "markdown",
   "id": "d905fbf1",
   "metadata": {},
   "source": [
    "Instrukcje warunkowe są podstawowymi mechanizmami przepływu pracy, które pozwalają na wykonywanie różnych bloków kodu w zależności od tego czy określony warunek jest prawdziwy czy fałszywy. W Pythonie do formułowania instrukcji warunkowych używa się wyrażeń `if`, `elif` oraz `else`. Warunki są sprawdzane (i wykonywane) w takiej kolejności w jakiej zostały zapisane."
   ]
  },
  {
   "cell_type": "code",
   "execution_count": 26,
   "id": "bab4cfa4",
   "metadata": {},
   "outputs": [
    {
     "name": "stdout",
     "output_type": "stream",
     "text": [
      "Liczba jest większa od 0.\n"
     ]
    }
   ],
   "source": [
    "x = 10\n",
    "\n",
    "# sprawdza jeden warunek\n",
    "if x > 0:\n",
    "    print(\"Liczba jest większa od 0.\")\n",
    "else:\n",
    "    print(\"Liczba jest mniejsza od 0 lub równa 0.\")"
   ]
  },
  {
   "cell_type": "code",
   "execution_count": 27,
   "id": "7751495b",
   "metadata": {},
   "outputs": [
    {
     "name": "stdout",
     "output_type": "stream",
     "text": [
      "Liczba to 0.\n"
     ]
    }
   ],
   "source": [
    "x = 0\n",
    "\n",
    "# sprawdza dwa warunki\n",
    "if x > 0:\n",
    "    print(\"Liczba jest większa od 0.\")\n",
    "elif x < 0:\n",
    "    print(\"Liczba jest mniejsza od 0.\")\n",
    "else:\n",
    "    print(\"Liczba to 0.\")"
   ]
  },
  {
   "cell_type": "markdown",
   "id": "674f787a",
   "metadata": {},
   "source": [
    "## Pętle\n",
    "\n",
    "Pętle to instrukcje przepływu pracy używane do wielokrotnego wykonywania bloku kodu. Są one niezbędne do automatyzacji powtarzających się zadań. W Pythonie istnieją dwa typy pętli: `for` oraz `while`."
   ]
  },
  {
   "cell_type": "markdown",
   "id": "aaebe8b0",
   "metadata": {},
   "source": [
    "### Pętla `for`\n",
    "\n",
    "Służy do iteracji po sekwencji, np. lista, łańcuch znaków, zakres (lub dowolnym iterowalnym obiekcie) i wykonuje zdefiniowaną akcję dla każdego elementu."
   ]
  },
  {
   "cell_type": "code",
   "execution_count": 28,
   "id": "167299fb",
   "metadata": {},
   "outputs": [
    {
     "name": "stdout",
     "output_type": "stream",
     "text": [
      "a\n",
      "b\n",
      "c\n"
     ]
    }
   ],
   "source": [
    "ls = [\"a\", \"b\", \"c\"]\n",
    "\n",
    "# iteracja po elementach listy\n",
    "for i in ls:\n",
    "    print(i)"
   ]
  },
  {
   "cell_type": "code",
   "execution_count": 29,
   "id": "60bae4f0",
   "metadata": {},
   "outputs": [
    {
     "name": "stdout",
     "output_type": "stream",
     "text": [
      "0\n",
      "1\n",
      "2\n"
     ]
    }
   ],
   "source": [
    "# iteracja po zakresie liczb\n",
    "for i in range(3):\n",
    "    print(i)"
   ]
  },
  {
   "cell_type": "markdown",
   "id": "cd2f118a",
   "metadata": {},
   "source": [
    "Zauważ, że numeracja rozpoczyna się od 0."
   ]
  },
  {
   "cell_type": "markdown",
   "id": "97c3e3f4",
   "metadata": {},
   "source": [
    "### Pętla `while`\n",
    "\n",
    "Służy do wielokrotnej iteracji, dopóki określony warunek jest prawdziwy. Oznacza to, że pętla zakończy się wtedy, kiedy warunek nie zostanie spełniony. Używając tego rodzaju pętli, należy upewnić się, że jest ona skończona!"
   ]
  },
  {
   "cell_type": "code",
   "execution_count": 30,
   "id": "ca9a81c4",
   "metadata": {},
   "outputs": [
    {
     "name": "stdout",
     "output_type": "stream",
     "text": [
      "0\n",
      "1\n",
      "2\n",
      "3\n",
      "4\n"
     ]
    }
   ],
   "source": [
    "licznik = 0\n",
    "while licznik < 5:\n",
    "    print(licznik)\n",
    "    licznik += 1"
   ]
  },
  {
   "cell_type": "markdown",
   "id": "08ffd322",
   "metadata": {},
   "source": [
    "Wykonywanie pętli można kontrolować za pomocą wyrażeń:\n",
    "- `break` -- natychmiastowe wyjście z pętli,\n",
    "- `continue` -- pominięcie bieżącej iteracji i przejście do następnej,\n",
    "- `pass` -- brak akcji (nic się nie dzieje)."
   ]
  },
  {
   "cell_type": "markdown",
   "id": "aa4b3013",
   "metadata": {},
   "source": [
    "## Funkcje\n",
    "\n",
    "Funkcja to blok kodu wielokrotnego użytku, który wykonuje określone zadanie. Umożliwiają organizowanie kodu w mniejsze moduły, dzięki czemu kod programu jest czytelniejszy i łatwiejszy do zrozumienia. Funkcje mogą przyjmować dane wejściowe, przetwarzać je i zwracać dane wyjściowe. Funkcje definiuje się za pomocą słowa kluczowego `def`, po którym następuje nazwa funkcji i nawiasy `()` z argumentami."
   ]
  },
  {
   "cell_type": "code",
   "execution_count": 31,
   "id": "978985d2",
   "metadata": {},
   "outputs": [],
   "source": [
    "def pole_prostokata(a, b):\n",
    "    \"\"\"Opcjonalna dokumentacja opisująca funkcję\"\"\"\n",
    "    P = a * b\n",
    "    return P"
   ]
  },
  {
   "cell_type": "markdown",
   "id": "cd729f4b",
   "metadata": {},
   "source": [
    "Aby wykonać funkcję, należy ją wywołać, używając jej nazwy wraz z nawiasami. Jeśli funkcja przyjmuje argumenty, to należy je określić w nawiasie."
   ]
  },
  {
   "cell_type": "code",
   "execution_count": 32,
   "id": "36dfc8a7",
   "metadata": {},
   "outputs": [
    {
     "data": {
      "text/plain": [
       "50"
      ]
     },
     "execution_count": 32,
     "metadata": {},
     "output_type": "execute_result"
    }
   ],
   "source": [
    "pole_prostokata(10, 5)"
   ]
  },
  {
   "cell_type": "markdown",
   "id": "34b66d7e",
   "metadata": {},
   "source": [
    "## Obsługa wyjątków\n",
    "\n",
    "Obsługa wyjątków jest mechanizmem umożliwiającym zarządzanie i reagowanie na błędy lub nieoczekiwane zdarzenia, które mogą wystąpić podczas wykonywania kodu. Przyczyny błędów w programie mogą być zróżnicowane, np. nieprawidłowy format danych wejściowych, brak pliku w określonej lokalizacji, dzielenie przez zero, itd.\n",
    "\n",
    "Podstawowym narzędziem Pythona do obsługi wyjątków jest blok `try-except`:\n",
    "\n",
    "- `try` -- obejmuje blok kodu, który potencjalnie może spowodować wyjątek,\n",
    "- `except` -- określa typów wyjątków, które powinny zostać wychwycone."
   ]
  },
  {
   "cell_type": "markdown",
   "id": "a259b514",
   "metadata": {},
   "source": [
    "Wśród podstawowych klas wyjątków możemy znaleźć:\n",
    "\n",
    "- `TypeError` (operacja wykonywana jest na niezgodnym typie danych),\n",
    "- `ZeroDivisionError` (próba dzielenia przez 0),\n",
    "- `FileNotFoundError` (żądany jest plik, który nie istnieje),\n",
    "- `SyntaxError` (nieprawidłowa składnia języka Python).\n",
    "\n",
    "Wszystkie klasy są opisane [tutaj](https://docs.python.org/3/library/exceptions.html)."
   ]
  },
  {
   "cell_type": "code",
   "execution_count": 33,
   "id": "615524a1",
   "metadata": {},
   "outputs": [],
   "source": [
    "def dzielenie(n):\n",
    "    try:\n",
    "        wynik = 10 / n\n",
    "    except TypeError:\n",
    "        print(\"Nieprawidłowy typ danych!\")\n",
    "    except ZeroDivisionError:\n",
    "        print(\"Nie można dzielić przez 0!\")\n",
    "    else:\n",
    "        print(wynik)"
   ]
  },
  {
   "cell_type": "markdown",
   "id": "23cc192a",
   "metadata": {},
   "source": [
    "W powyższym przykładzie najpierw wykonywany jest kod w bloku `try`. Następnie, jeżeli w bloku `try` wystąpi wyjątek określony w klauzulach `except`, to zostanie wykonany odpowiedni blok `except`, np. wyświetlenie komunikatu o błędzie, zastosowanie alternatywnego podejścia. Jeżeli nie wystąpił żaden wyjątek, to zostanie wykonany blok `else`.\n",
    "\n",
    "Przetestuj samodzielnie, co stanie się w poniższych wariantach:"
   ]
  },
  {
   "cell_type": "code",
   "execution_count": 34,
   "id": "01e87edc",
   "metadata": {},
   "outputs": [
    {
     "name": "stdout",
     "output_type": "stream",
     "text": [
      "Nieprawidłowy typ danych!\n",
      "Nie można dzielić przez 0!\n",
      "2.0\n"
     ]
    }
   ],
   "source": [
    "dzielenie(\"a\")\n",
    "dzielenie(0)\n",
    "dzielenie(5)"
   ]
  },
  {
   "cell_type": "markdown",
   "id": "0474331a",
   "metadata": {},
   "source": [
    "## Importowanie bibliotek\n",
    " \n",
    "Importowanie bibliotek umożliwia dostęp i używanie dodatkowych klas i metod, które nie są wbudowane język Python, dzięki czemu możliwe jest rozszerzenie funkcjonalności języka i wykorzystanie gotowych funkcji do różnych zadań."
   ]
  },
  {
   "cell_type": "markdown",
   "id": "f41d5866",
   "metadata": {},
   "source": [
    "W Pythonie możemy załadować wbudowane biblioteki (np. `math`, `time`, `os`) lub zainstalować zewnętrzne (np. `numpy`, `pandas`, `matplotlib`) używając polecenia `import`. Aby wywołać zaimportowane funkcje, należy wykorzystać nazwę biblioteki jako prefiks z kropką, a następnie podać nazwę funkcji, w ten sposób: `biblioteka.funkcja()`. Zaimportowanej bibliotece można również nadać alias, dzięki czemu nazwa zostanie skrócona, np. `import numpy as np`."
   ]
  },
  {
   "cell_type": "code",
   "execution_count": 35,
   "id": "7a3973ba",
   "metadata": {
    "scrolled": true
   },
   "outputs": [
    {
     "name": "stdout",
     "output_type": "stream",
     "text": [
      "4.0\n",
      "[85, 56, 96, 4, 53]\n"
     ]
    }
   ],
   "source": [
    "import math\n",
    "print(math.sqrt(16))\n",
    "\n",
    "import random\n",
    "# wylosuj 5 liczb z zakresu od 1 do 100\n",
    "random_numbers = random.sample(range(1, 101), 5)\n",
    "print(random_numbers)"
   ]
  },
  {
   "cell_type": "markdown",
   "id": "72119e90",
   "metadata": {},
   "source": [
    "# Zadania:\n",
    "\n",
    "1) Napisz pętlę, która zsumuje wartości od 1 do 10.\n",
    "2) Napisz funkcję, która zamienia kilogramy (kg) na funty (lb) oraz na odwrót.\n",
    "3) Napisz funkcję, która sprawdzi czy dany rok jest przestępny. Rok jest przestępny, gdy jest podzielny przez 4 i nie jest podzielny przez 100 lub jest podzielny przez 400. Przykładowo lata 2000 i 2004 były przestępne, natomiast lata 1990, 2010 czy 2021 nie były.\n",
    "4) Używając listy składanej (*list comprehension*) oraz instrukcji warunkowej, sprawdź jakie są pozostałe metody dostępne dla list. Do tego zadania będą pomocne dwie metody -- `dir()` oraz `startswith()`."
   ]
  }
 ],
 "metadata": {
  "authors": [
   {
    "name": "Krzysztof Dyba"
   }
  ],
  "kernelspec": {
   "display_name": "Python 3 (ipykernel)",
   "language": "python",
   "name": "python3"
  },
  "language_info": {
   "codemirror_mode": {
    "name": "ipython",
    "version": 3
   },
   "file_extension": ".py",
   "mimetype": "text/x-python",
   "name": "python",
   "nbconvert_exporter": "python",
   "pygments_lexer": "ipython3",
   "version": "3.12.7"
  },
  "subtitle": "Wprowadzenie do Pythona",
  "title": "Algorytmy danych geoprzestrzennych"
 },
 "nbformat": 4,
 "nbformat_minor": 5
}
